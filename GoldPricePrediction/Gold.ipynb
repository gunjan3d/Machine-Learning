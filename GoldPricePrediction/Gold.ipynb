{
 "cells": [
  {
   "cell_type": "code",
   "execution_count": 1,
   "id": "bfbde326",
   "metadata": {},
   "outputs": [],
   "source": [
    "import numpy as np\n",
    "import pandas as pd\n",
    "import os\n",
    "from sklearn.model_selection import train_test_split\n",
    "import seaborn as sms\n",
    "import matplotlib.pyplot as plt\n",
    "from sklearn.ensemble import RandomForestRegressor\n",
    "from sklearn import metrics\n",
    "from datetime import datetime\n",
    "import seaborn as sns\n",
    "sns.set()"
   ]
  },
  {
   "cell_type": "code",
   "execution_count": 2,
   "id": "273f7bbf",
   "metadata": {},
   "outputs": [
    {
     "data": {
      "text/plain": [
       "'c:\\\\Users\\\\gunja\\\\Documents\\\\DS and ML\\\\ML\\\\GoldPricePrediction'"
      ]
     },
     "execution_count": 2,
     "metadata": {},
     "output_type": "execute_result"
    }
   ],
   "source": [
    "os.getcwd()"
   ]
  },
  {
   "cell_type": "code",
   "execution_count": 3,
   "id": "d0695937",
   "metadata": {},
   "outputs": [
    {
     "data": {
      "text/html": [
       "<div>\n",
       "<style scoped>\n",
       "    .dataframe tbody tr th:only-of-type {\n",
       "        vertical-align: middle;\n",
       "    }\n",
       "\n",
       "    .dataframe tbody tr th {\n",
       "        vertical-align: top;\n",
       "    }\n",
       "\n",
       "    .dataframe thead th {\n",
       "        text-align: right;\n",
       "    }\n",
       "</style>\n",
       "<table border=\"1\" class=\"dataframe\">\n",
       "  <thead>\n",
       "    <tr style=\"text-align: right;\">\n",
       "      <th></th>\n",
       "      <th>Date</th>\n",
       "      <th>SPX</th>\n",
       "      <th>GLD</th>\n",
       "      <th>USO</th>\n",
       "      <th>SLV</th>\n",
       "      <th>EUR/USD</th>\n",
       "    </tr>\n",
       "  </thead>\n",
       "  <tbody>\n",
       "    <tr>\n",
       "      <th>0</th>\n",
       "      <td>1/2/2008</td>\n",
       "      <td>1447.160034</td>\n",
       "      <td>84.860001</td>\n",
       "      <td>78.470001</td>\n",
       "      <td>15.1800</td>\n",
       "      <td>1.471692</td>\n",
       "    </tr>\n",
       "    <tr>\n",
       "      <th>1</th>\n",
       "      <td>1/3/2008</td>\n",
       "      <td>1447.160034</td>\n",
       "      <td>85.570000</td>\n",
       "      <td>78.370003</td>\n",
       "      <td>15.2850</td>\n",
       "      <td>1.474491</td>\n",
       "    </tr>\n",
       "    <tr>\n",
       "      <th>2</th>\n",
       "      <td>1/4/2008</td>\n",
       "      <td>1411.630005</td>\n",
       "      <td>85.129997</td>\n",
       "      <td>77.309998</td>\n",
       "      <td>15.1670</td>\n",
       "      <td>1.475492</td>\n",
       "    </tr>\n",
       "    <tr>\n",
       "      <th>3</th>\n",
       "      <td>1/7/2008</td>\n",
       "      <td>1416.180054</td>\n",
       "      <td>84.769997</td>\n",
       "      <td>75.500000</td>\n",
       "      <td>15.0530</td>\n",
       "      <td>1.468299</td>\n",
       "    </tr>\n",
       "    <tr>\n",
       "      <th>4</th>\n",
       "      <td>1/8/2008</td>\n",
       "      <td>1390.189941</td>\n",
       "      <td>86.779999</td>\n",
       "      <td>76.059998</td>\n",
       "      <td>15.5900</td>\n",
       "      <td>1.557099</td>\n",
       "    </tr>\n",
       "    <tr>\n",
       "      <th>...</th>\n",
       "      <td>...</td>\n",
       "      <td>...</td>\n",
       "      <td>...</td>\n",
       "      <td>...</td>\n",
       "      <td>...</td>\n",
       "      <td>...</td>\n",
       "    </tr>\n",
       "    <tr>\n",
       "      <th>2285</th>\n",
       "      <td>5/8/2018</td>\n",
       "      <td>2671.919922</td>\n",
       "      <td>124.589996</td>\n",
       "      <td>14.060000</td>\n",
       "      <td>15.5100</td>\n",
       "      <td>1.186789</td>\n",
       "    </tr>\n",
       "    <tr>\n",
       "      <th>2286</th>\n",
       "      <td>5/9/2018</td>\n",
       "      <td>2697.790039</td>\n",
       "      <td>124.330002</td>\n",
       "      <td>14.370000</td>\n",
       "      <td>15.5300</td>\n",
       "      <td>1.184722</td>\n",
       "    </tr>\n",
       "    <tr>\n",
       "      <th>2287</th>\n",
       "      <td>5/10/2018</td>\n",
       "      <td>2723.070068</td>\n",
       "      <td>125.180000</td>\n",
       "      <td>14.410000</td>\n",
       "      <td>15.7400</td>\n",
       "      <td>1.191753</td>\n",
       "    </tr>\n",
       "    <tr>\n",
       "      <th>2288</th>\n",
       "      <td>5/14/2018</td>\n",
       "      <td>2730.129883</td>\n",
       "      <td>124.489998</td>\n",
       "      <td>14.380000</td>\n",
       "      <td>15.5600</td>\n",
       "      <td>1.193118</td>\n",
       "    </tr>\n",
       "    <tr>\n",
       "      <th>2289</th>\n",
       "      <td>5/16/2018</td>\n",
       "      <td>2725.780029</td>\n",
       "      <td>122.543800</td>\n",
       "      <td>14.405800</td>\n",
       "      <td>15.4542</td>\n",
       "      <td>1.182033</td>\n",
       "    </tr>\n",
       "  </tbody>\n",
       "</table>\n",
       "<p>2290 rows × 6 columns</p>\n",
       "</div>"
      ],
      "text/plain": [
       "           Date          SPX         GLD        USO      SLV   EUR/USD\n",
       "0      1/2/2008  1447.160034   84.860001  78.470001  15.1800  1.471692\n",
       "1      1/3/2008  1447.160034   85.570000  78.370003  15.2850  1.474491\n",
       "2      1/4/2008  1411.630005   85.129997  77.309998  15.1670  1.475492\n",
       "3      1/7/2008  1416.180054   84.769997  75.500000  15.0530  1.468299\n",
       "4      1/8/2008  1390.189941   86.779999  76.059998  15.5900  1.557099\n",
       "...         ...          ...         ...        ...      ...       ...\n",
       "2285   5/8/2018  2671.919922  124.589996  14.060000  15.5100  1.186789\n",
       "2286   5/9/2018  2697.790039  124.330002  14.370000  15.5300  1.184722\n",
       "2287  5/10/2018  2723.070068  125.180000  14.410000  15.7400  1.191753\n",
       "2288  5/14/2018  2730.129883  124.489998  14.380000  15.5600  1.193118\n",
       "2289  5/16/2018  2725.780029  122.543800  14.405800  15.4542  1.182033\n",
       "\n",
       "[2290 rows x 6 columns]"
      ]
     },
     "execution_count": 3,
     "metadata": {},
     "output_type": "execute_result"
    }
   ],
   "source": [
    "df = pd.read_csv('archive/gld_price_data.csv')\n",
    "df"
   ]
  },
  {
   "cell_type": "code",
   "execution_count": 4,
   "id": "9f80315b",
   "metadata": {},
   "outputs": [],
   "source": [
    "### data collection and processing"
   ]
  },
  {
   "cell_type": "code",
   "execution_count": 5,
   "id": "8de11a28",
   "metadata": {},
   "outputs": [
    {
     "data": {
      "image/png": "[encoded data removed]",
      "text/plain": [
       "<Figure size 640x480 with 1 Axes>"
      ]
     },
     "metadata": {},
     "output_type": "display_data"
    }
   ],
   "source": [
    "plt.scatter(df['GLD'],df['SLV'])\n",
    "plt.xlabel('gold')\n",
    "plt.ylabel('slv')\n",
    "plt.show()"
   ]
  },
  {
   "cell_type": "code",
   "execution_count": 6,
   "id": "cca90d7a",
   "metadata": {},
   "outputs": [
    {
     "data": {
      "text/plain": [
       "(2290, 6)"
      ]
     },
     "execution_count": 6,
     "metadata": {},
     "output_type": "execute_result"
    }
   ],
   "source": [
    "df.shape"
   ]
  },
  {
   "cell_type": "code",
   "execution_count": 7,
   "id": "4e37082f",
   "metadata": {},
   "outputs": [
    {
     "data": {
      "text/plain": [
       "13740"
      ]
     },
     "execution_count": 7,
     "metadata": {},
     "output_type": "execute_result"
    }
   ],
   "source": [
    "df.size"
   ]
  },
  {
   "cell_type": "code",
   "execution_count": 8,
   "id": "75ce857c",
   "metadata": {},
   "outputs": [
    {
     "data": {
      "text/html": [
       "<div>\n",
       "<style scoped>\n",
       "    .dataframe tbody tr th:only-of-type {\n",
       "        vertical-align: middle;\n",
       "    }\n",
       "\n",
       "    .dataframe tbody tr th {\n",
       "        vertical-align: top;\n",
       "    }\n",
       "\n",
       "    .dataframe thead th {\n",
       "        text-align: right;\n",
       "    }\n",
       "</style>\n",
       "<table border=\"1\" class=\"dataframe\">\n",
       "  <thead>\n",
       "    <tr style=\"text-align: right;\">\n",
       "      <th></th>\n",
       "      <th>SPX</th>\n",
       "      <th>GLD</th>\n",
       "      <th>USO</th>\n",
       "      <th>SLV</th>\n",
       "      <th>EUR/USD</th>\n",
       "    </tr>\n",
       "  </thead>\n",
       "  <tbody>\n",
       "    <tr>\n",
       "      <th>count</th>\n",
       "      <td>2290.000000</td>\n",
       "      <td>2290.000000</td>\n",
       "      <td>2290.000000</td>\n",
       "      <td>2290.000000</td>\n",
       "      <td>2290.000000</td>\n",
       "    </tr>\n",
       "    <tr>\n",
       "      <th>mean</th>\n",
       "      <td>1654.315776</td>\n",
       "      <td>122.732875</td>\n",
       "      <td>31.842221</td>\n",
       "      <td>20.084997</td>\n",
       "      <td>1.283653</td>\n",
       "    </tr>\n",
       "    <tr>\n",
       "      <th>std</th>\n",
       "      <td>519.111540</td>\n",
       "      <td>23.283346</td>\n",
       "      <td>19.523517</td>\n",
       "      <td>7.092566</td>\n",
       "      <td>0.131547</td>\n",
       "    </tr>\n",
       "    <tr>\n",
       "      <th>min</th>\n",
       "      <td>676.530029</td>\n",
       "      <td>70.000000</td>\n",
       "      <td>7.960000</td>\n",
       "      <td>8.850000</td>\n",
       "      <td>1.039047</td>\n",
       "    </tr>\n",
       "    <tr>\n",
       "      <th>25%</th>\n",
       "      <td>1239.874969</td>\n",
       "      <td>109.725000</td>\n",
       "      <td>14.380000</td>\n",
       "      <td>15.570000</td>\n",
       "      <td>1.171313</td>\n",
       "    </tr>\n",
       "    <tr>\n",
       "      <th>50%</th>\n",
       "      <td>1551.434998</td>\n",
       "      <td>120.580002</td>\n",
       "      <td>33.869999</td>\n",
       "      <td>17.268500</td>\n",
       "      <td>1.303297</td>\n",
       "    </tr>\n",
       "    <tr>\n",
       "      <th>75%</th>\n",
       "      <td>2073.010070</td>\n",
       "      <td>132.840004</td>\n",
       "      <td>37.827501</td>\n",
       "      <td>22.882500</td>\n",
       "      <td>1.369971</td>\n",
       "    </tr>\n",
       "    <tr>\n",
       "      <th>max</th>\n",
       "      <td>2872.870117</td>\n",
       "      <td>184.589996</td>\n",
       "      <td>117.480003</td>\n",
       "      <td>47.259998</td>\n",
       "      <td>1.598798</td>\n",
       "    </tr>\n",
       "  </tbody>\n",
       "</table>\n",
       "</div>"
      ],
      "text/plain": [
       "               SPX          GLD          USO          SLV      EUR/USD\n",
       "count  2290.000000  2290.000000  2290.000000  2290.000000  2290.000000\n",
       "mean   1654.315776   122.732875    31.842221    20.084997     1.283653\n",
       "std     519.111540    23.283346    19.523517     7.092566     0.131547\n",
       "min     676.530029    70.000000     7.960000     8.850000     1.039047\n",
       "25%    1239.874969   109.725000    14.380000    15.570000     1.171313\n",
       "50%    1551.434998   120.580002    33.869999    17.268500     1.303297\n",
       "75%    2073.010070   132.840004    37.827501    22.882500     1.369971\n",
       "max    2872.870117   184.589996   117.480003    47.259998     1.598798"
      ]
     },
     "execution_count": 8,
     "metadata": {},
     "output_type": "execute_result"
    }
   ],
   "source": [
    "df.describe()"
   ]
  },
  {
   "cell_type": "code",
   "execution_count": 9,
   "id": "be459ee6",
   "metadata": {},
   "outputs": [
    {
     "name": "stdout",
     "output_type": "stream",
     "text": [
      "<class 'pandas.core.frame.DataFrame'>\n",
      "RangeIndex: 2290 entries, 0 to 2289\n",
      "Data columns (total 6 columns):\n",
      " #   Column   Non-Null Count  Dtype  \n",
      "---  ------   --------------  -----  \n",
      " 0   Date     2290 non-null   object \n",
      " 1   SPX      2290 non-null   float64\n",
      " 2   GLD      2290 non-null   float64\n",
      " 3   USO      2290 non-null   float64\n",
      " 4   SLV      2290 non-null   float64\n",
      " 5   EUR/USD  2290 non-null   float64\n",
      "dtypes: float64(5), object(1)\n",
      "memory usage: 107.5+ KB\n"
     ]
    }
   ],
   "source": [
    "df.info()"
   ]
  },
  {
   "cell_type": "code",
   "execution_count": 10,
   "id": "5f1d96f2",
   "metadata": {},
   "outputs": [
    {
     "data": {
      "text/plain": [
       "Date       0\n",
       "SPX        0\n",
       "GLD        0\n",
       "USO        0\n",
       "SLV        0\n",
       "EUR/USD    0\n",
       "dtype: int64"
      ]
     },
     "execution_count": 10,
     "metadata": {},
     "output_type": "execute_result"
    }
   ],
   "source": [
    "df.isnull().sum()"
   ]
  },
  {
   "cell_type": "code",
   "execution_count": 11,
   "id": "24e9ffde",
   "metadata": {},
   "outputs": [],
   "source": [
    "### getting correlations "
   ]
  },
  {
   "cell_type": "code",
   "execution_count": 12,
   "id": "ea4a888f",
   "metadata": {},
   "outputs": [],
   "source": [
    "df['Date'] = df['Date'].apply(lambda x: datetime.strptime(x, '%m/%d/%Y'))"
   ]
  },
  {
   "cell_type": "code",
   "execution_count": 13,
   "id": "9d0c1dd9",
   "metadata": {},
   "outputs": [
    {
     "data": {
      "text/html": [
       "<div>\n",
       "<style scoped>\n",
       "    .dataframe tbody tr th:only-of-type {\n",
       "        vertical-align: middle;\n",
       "    }\n",
       "\n",
       "    .dataframe tbody tr th {\n",
       "        vertical-align: top;\n",
       "    }\n",
       "\n",
       "    .dataframe thead th {\n",
       "        text-align: right;\n",
       "    }\n",
       "</style>\n",
       "<table border=\"1\" class=\"dataframe\">\n",
       "  <thead>\n",
       "    <tr style=\"text-align: right;\">\n",
       "      <th></th>\n",
       "      <th>Date</th>\n",
       "      <th>SPX</th>\n",
       "      <th>GLD</th>\n",
       "      <th>USO</th>\n",
       "      <th>SLV</th>\n",
       "      <th>EUR/USD</th>\n",
       "    </tr>\n",
       "  </thead>\n",
       "  <tbody>\n",
       "    <tr>\n",
       "      <th>Date</th>\n",
       "      <td>1.000000</td>\n",
       "      <td>0.944033</td>\n",
       "      <td>0.209118</td>\n",
       "      <td>-0.782230</td>\n",
       "      <td>-0.174108</td>\n",
       "      <td>-0.794540</td>\n",
       "    </tr>\n",
       "    <tr>\n",
       "      <th>SPX</th>\n",
       "      <td>0.944033</td>\n",
       "      <td>1.000000</td>\n",
       "      <td>0.049345</td>\n",
       "      <td>-0.591573</td>\n",
       "      <td>-0.274055</td>\n",
       "      <td>-0.672017</td>\n",
       "    </tr>\n",
       "    <tr>\n",
       "      <th>GLD</th>\n",
       "      <td>0.209118</td>\n",
       "      <td>0.049345</td>\n",
       "      <td>1.000000</td>\n",
       "      <td>-0.186360</td>\n",
       "      <td>0.866632</td>\n",
       "      <td>-0.024375</td>\n",
       "    </tr>\n",
       "    <tr>\n",
       "      <th>USO</th>\n",
       "      <td>-0.782230</td>\n",
       "      <td>-0.591573</td>\n",
       "      <td>-0.186360</td>\n",
       "      <td>1.000000</td>\n",
       "      <td>0.167547</td>\n",
       "      <td>0.829317</td>\n",
       "    </tr>\n",
       "    <tr>\n",
       "      <th>SLV</th>\n",
       "      <td>-0.174108</td>\n",
       "      <td>-0.274055</td>\n",
       "      <td>0.866632</td>\n",
       "      <td>0.167547</td>\n",
       "      <td>1.000000</td>\n",
       "      <td>0.321631</td>\n",
       "    </tr>\n",
       "    <tr>\n",
       "      <th>EUR/USD</th>\n",
       "      <td>-0.794540</td>\n",
       "      <td>-0.672017</td>\n",
       "      <td>-0.024375</td>\n",
       "      <td>0.829317</td>\n",
       "      <td>0.321631</td>\n",
       "      <td>1.000000</td>\n",
       "    </tr>\n",
       "  </tbody>\n",
       "</table>\n",
       "</div>"
      ],
      "text/plain": [
       "             Date       SPX       GLD       USO       SLV   EUR/USD\n",
       "Date     1.000000  0.944033  0.209118 -0.782230 -0.174108 -0.794540\n",
       "SPX      0.944033  1.000000  0.049345 -0.591573 -0.274055 -0.672017\n",
       "GLD      0.209118  0.049345  1.000000 -0.186360  0.866632 -0.024375\n",
       "USO     -0.782230 -0.591573 -0.186360  1.000000  0.167547  0.829317\n",
       "SLV     -0.174108 -0.274055  0.866632  0.167547  1.000000  0.321631\n",
       "EUR/USD -0.794540 -0.672017 -0.024375  0.829317  0.321631  1.000000"
      ]
     },
     "execution_count": 13,
     "metadata": {},
     "output_type": "execute_result"
    }
   ],
   "source": [
    "correlation = df.corr()\n",
    "correlation"
   ]
  },
  {
   "cell_type": "code",
   "execution_count": null,
   "id": "95d46fcf",
   "metadata": {},
   "outputs": [],
   "source": []
  },
  {
   "cell_type": "code",
   "execution_count": null,
   "id": "69dd54af",
   "metadata": {},
   "outputs": [],
   "source": []
  },
  {
   "cell_type": "code",
   "execution_count": 14,
   "id": "85e3335b",
   "metadata": {},
   "outputs": [],
   "source": [
    "X = df.drop(['GLD','Date'],axis =1)\n",
    "y = df['GLD']\n"
   ]
  },
  {
   "cell_type": "code",
   "execution_count": 15,
   "id": "d579f582",
   "metadata": {},
   "outputs": [],
   "source": [
    "X_train,x_test,Y_train,y_test = train_test_split(X,y,test_size = 0.2,random_state = 45)"
   ]
  },
  {
   "cell_type": "code",
   "execution_count": null,
   "id": "11a431fd",
   "metadata": {},
   "outputs": [],
   "source": []
  },
  {
   "cell_type": "code",
   "execution_count": 16,
   "id": "55c3d4c8",
   "metadata": {},
   "outputs": [],
   "source": [
    "## regression check"
   ]
  },
  {
   "cell_type": "raw",
   "id": "52d2b947",
   "metadata": {},
   "source": []
  },
  {
   "cell_type": "code",
   "execution_count": 17,
   "id": "3d867a88",
   "metadata": {},
   "outputs": [],
   "source": [
    "regressor = RandomForestRegressor(n_estimators = 100)"
   ]
  },
  {
   "cell_type": "code",
   "execution_count": 18,
   "id": "76e14837",
   "metadata": {},
   "outputs": [
    {
     "data": {
      "text/html": [
       "<style>#sk-container-id-1 {color: black;background-color: white;}#sk-container-id-1 pre{padding: 0;}#sk-container-id-1 div.sk-toggleable {background-color: white;}#sk-container-id-1 label.sk-toggleable__label {cursor: pointer;display: block;width: 100%;margin-bottom: 0;padding: 0.3em;box-sizing: border-box;text-align: center;}#sk-container-id-1 label.sk-toggleable__label-arrow:before {content: \"▸\";float: left;margin-right: 0.25em;color: #696969;}#sk-container-id-1 label.sk-toggleable__label-arrow:hover:before {color: black;}#sk-container-id-1 div.sk-estimator:hover label.sk-toggleable__label-arrow:before {color: black;}#sk-container-id-1 div.sk-toggleable__content {max-height: 0;max-width: 0;overflow: hidden;text-align: left;background-color: #f0f8ff;}#sk-container-id-1 div.sk-toggleable__content pre {margin: 0.2em;color: black;border-radius: 0.25em;background-color: #f0f8ff;}#sk-container-id-1 input.sk-toggleable__control:checked~div.sk-toggleable__content {max-height: 200px;max-width: 100%;overflow: auto;}#sk-container-id-1 input.sk-toggleable__control:checked~label.sk-toggleable__label-arrow:before {content: \"▾\";}#sk-container-id-1 div.sk-estimator input.sk-toggleable__control:checked~label.sk-toggleable__label {background-color: #d4ebff;}#sk-container-id-1 div.sk-label input.sk-toggleable__control:checked~label.sk-toggleable__label {background-color: #d4ebff;}#sk-container-id-1 input.sk-hidden--visually {border: 0;clip: rect(1px 1px 1px 1px);clip: rect(1px, 1px, 1px, 1px);height: 1px;margin: -1px;overflow: hidden;padding: 0;position: absolute;width: 1px;}#sk-container-id-1 div.sk-estimator {font-family: monospace;background-color: #f0f8ff;border: 1px dotted black;border-radius: 0.25em;box-sizing: border-box;margin-bottom: 0.5em;}#sk-container-id-1 div.sk-estimator:hover {background-color: #d4ebff;}#sk-container-id-1 div.sk-parallel-item::after {content: \"\";width: 100%;border-bottom: 1px solid gray;flex-grow: 1;}#sk-container-id-1 div.sk-label:hover label.sk-toggleable__label {background-color: #d4ebff;}#sk-container-id-1 div.sk-serial::before {content: \"\";position: absolute;border-left: 1px solid gray;box-sizing: border-box;top: 0;bottom: 0;left: 50%;z-index: 0;}#sk-container-id-1 div.sk-serial {display: flex;flex-direction: column;align-items: center;background-color: white;padding-right: 0.2em;padding-left: 0.2em;position: relative;}#sk-container-id-1 div.sk-item {position: relative;z-index: 1;}#sk-container-id-1 div.sk-parallel {display: flex;align-items: stretch;justify-content: center;background-color: white;position: relative;}#sk-container-id-1 div.sk-item::before, #sk-container-id-1 div.sk-parallel-item::before {content: \"\";position: absolute;border-left: 1px solid gray;box-sizing: border-box;top: 0;bottom: 0;left: 50%;z-index: -1;}#sk-container-id-1 div.sk-parallel-item {display: flex;flex-direction: column;z-index: 1;position: relative;background-color: white;}#sk-container-id-1 div.sk-parallel-item:first-child::after {align-self: flex-end;width: 50%;}#sk-container-id-1 div.sk-parallel-item:last-child::after {align-self: flex-start;width: 50%;}#sk-container-id-1 div.sk-parallel-item:only-child::after {width: 0;}#sk-container-id-1 div.sk-dashed-wrapped {border: 1px dashed gray;margin: 0 0.4em 0.5em 0.4em;box-sizing: border-box;padding-bottom: 0.4em;background-color: white;}#sk-container-id-1 div.sk-label label {font-family: monospace;font-weight: bold;display: inline-block;line-height: 1.2em;}#sk-container-id-1 div.sk-label-container {text-align: center;}#sk-container-id-1 div.sk-container {/* jupyter's `normalize.less` sets `[hidden] { display: none; }` but bootstrap.min.css set `[hidden] { display: none !important; }` so we also need the `!important` here to be able to override the default hidden behavior on the sphinx rendered scikit-learn.org. See: https://github.com/scikit-learn/scikit-learn/issues/21755 */display: inline-block !important;position: relative;}#sk-container-id-1 div.sk-text-repr-fallback {display: none;}</style><div id=\"sk-container-id-1\" class=\"sk-top-container\"><div class=\"sk-text-repr-fallback\"><pre>RandomForestRegressor()</pre><b>In a Jupyter environment, please rerun this cell to show the HTML representation or trust the notebook. <br />On GitHub, the HTML representation is unable to render, please try loading this page with nbviewer.org.</b></div><div class=\"sk-container\" hidden><div class=\"sk-item\"><div class=\"sk-estimator sk-toggleable\"><input class=\"sk-toggleable__control sk-hidden--visually\" id=\"sk-estimator-id-1\" type=\"checkbox\" checked><label for=\"sk-estimator-id-1\" class=\"sk-toggleable__label sk-toggleable__label-arrow\">RandomForestRegressor</label><div class=\"sk-toggleable__content\"><pre>RandomForestRegressor()</pre></div></div></div></div></div>"
      ],
      "text/plain": [
       "RandomForestRegressor()"
      ]
     },
     "execution_count": 18,
     "metadata": {},
     "output_type": "execute_result"
    }
   ],
   "source": [
    "regressor.fit(X_train,Y_train)"
   ]
  },
  {
   "cell_type": "code",
   "execution_count": 19,
   "id": "f805795e",
   "metadata": {},
   "outputs": [],
   "source": [
    "test_predection  = regressor.predict(x_test)"
   ]
  },
  {
   "cell_type": "code",
   "execution_count": 20,
   "id": "b9dd4108",
   "metadata": {},
   "outputs": [
    {
     "data": {
      "text/plain": [
       "array([116.49470081,  88.1706985 , 127.81540045, 154.69720176,\n",
       "       125.28840093, 124.51740068, 153.47300137, 120.79230034,\n",
       "       142.95270112, 127.70440188, 106.44470112, 114.36270009,\n",
       "       120.33840112, 106.63019866, 139.50560421,  94.61850043,\n",
       "       164.62630049, 155.6307031 , 166.94899868, 149.76550207,\n",
       "        88.4996994 , 116.77900016, 126.83230045, 114.44920038,\n",
       "       176.34159955, 127.92630149, 150.21810213, 125.07109986,\n",
       "       123.37589934, 126.64229957, 160.02350023, 108.5930992 ,\n",
       "       117.83779917, 133.96670233, 115.09610198, 115.03220089,\n",
       "       113.00049983, 119.6683    , 110.15510152, 153.48950145,\n",
       "       133.12150078, 130.28530269, 117.47660056, 107.03329849,\n",
       "       139.67380044, 118.19140033, 161.01530477, 168.20950192,\n",
       "       122.56099941, 123.72959939, 114.17520035, 106.75219867,\n",
       "       104.93360174, 123.4079997 , 124.20140035, 125.01660087,\n",
       "       115.41479921, 156.56349785, 110.14209995,  89.40470022,\n",
       "       105.51980062, 118.43770141, 111.97309998, 161.60490187,\n",
       "       117.59170055, 114.13869953, 127.92859996, 123.70509951,\n",
       "       116.33370066, 118.06229949,  85.98729993, 166.20390231,\n",
       "       104.32900027, 159.43369574, 121.45229954, 114.42479928,\n",
       "       133.15480114, 126.89730158, 160.10859571, 118.95619921,\n",
       "       116.91909997,  91.47589885,  89.53699943, 108.6951997 ,\n",
       "       114.60419906,  89.67349872, 116.97400201, 143.01060061,\n",
       "       126.3975995 , 159.78449578, 118.98239913, 156.79269964,\n",
       "       155.0648024 ,  72.97280042, 103.43229839, 176.8305016 ,\n",
       "       142.91270173, 123.86029939, 113.61239935, 113.26049966,\n",
       "       104.89839979, 125.82359983, 120.81259845, 121.47600061,\n",
       "       118.90110036, 144.94039549,  90.78279993, 104.45749998,\n",
       "       121.4952995 ,  85.90469856, 119.75830031,  96.15609882,\n",
       "       153.9674014 , 122.62979995, 164.23460194, 126.19579848,\n",
       "        91.97350083, 122.93089986, 119.2152009 , 126.68259848,\n",
       "       114.65580086, 160.26530287, 124.81849921,  84.09990093,\n",
       "        96.02669981, 115.3111011 , 163.51390106, 121.01469867,\n",
       "       154.86070129, 125.84119974, 121.30290056, 126.30210055,\n",
       "       118.90599998, 119.7871014 , 135.72749882, 119.81420039,\n",
       "       139.4672988 ,  92.01750088, 129.46720286, 122.98989928,\n",
       "       114.89729871, 127.70719953,  96.61759731, 168.51700077,\n",
       "       119.84840005, 102.2127995 ,  93.93559838,  88.3417998 ,\n",
       "       119.65399998, 163.19940154, 137.91299959, 102.85449884,\n",
       "        92.66889971,  85.09029945, 155.98250151, 157.90409901,\n",
       "       120.7776    ,  93.08339972, 122.31619934, 133.43999862,\n",
       "       154.40250333, 161.46160178, 115.84040006,  89.56119962,\n",
       "       118.86190111, 157.47699893, 124.65009919, 124.14420023,\n",
       "       163.08010138, 143.19580049, 121.59099874, 116.54370072,\n",
       "        90.47539998, 122.55380008,  91.64029982, 121.37870058,\n",
       "       107.98889908,  89.5723994 , 131.4993022 ,  91.96539982,\n",
       "       147.31989865, 164.13349962, 140.54130067, 170.09630017,\n",
       "       119.43160067,  94.30279885, 169.41950005, 121.02169884,\n",
       "       155.10800296, 143.10269844, 147.76699689, 135.08620011,\n",
       "       109.41889939, 146.09050077, 115.30830052, 125.40589952,\n",
       "        88.50389906, 113.26530059, 121.15959828, 128.6335983 ,\n",
       "        86.50359887,  85.60779986, 121.89189928, 127.88220056,\n",
       "       110.37670083, 121.29859973, 109.24710044, 163.70419991,\n",
       "       135.13010303, 156.34789993, 119.41640013, 133.17430063,\n",
       "       106.8214015 , 112.125601  , 102.04440043, 122.12930039,\n",
       "       118.6797011 , 155.6579003 , 126.39530002, 107.64959988,\n",
       "       122.09499918,  90.85869991, 119.65590111,  86.32119782,\n",
       "       142.85900107, 125.08229999, 114.07379867,  88.81160037,\n",
       "       118.28000047, 130.76430417, 126.75000038, 125.30660073,\n",
       "       116.85119996, 158.54470088, 124.22120055, 172.54870063,\n",
       "       131.66900024,  84.06199904, 173.49129721, 126.90939818,\n",
       "       107.26219929, 113.69140036, 112.70240061, 125.1234014 ,\n",
       "       120.56630117, 107.88110145, 108.24910001,  88.89890019,\n",
       "        88.53269948, 160.18079731, 135.26749936, 147.04540133,\n",
       "       139.03930149, 125.26109913, 117.06520136, 114.68699972,\n",
       "       171.46670316,  90.29799969, 117.45349994, 162.97489894,\n",
       "       144.15490159, 135.64279919, 157.56480024, 129.14180256,\n",
       "       121.39599902, 120.88369943,  75.94350012,  90.5890002 ,\n",
       "        81.88310135, 152.22370122, 125.27179953, 120.10110129,\n",
       "       120.16030122,  92.14410113, 141.12720166, 125.54350011,\n",
       "       120.41340121, 120.44959929, 113.02249996, 124.4660993 ,\n",
       "        96.54990159,  96.76249759, 121.1734009 , 116.10619906,\n",
       "       110.25869918, 152.96180092, 123.22840073,  89.14890023,\n",
       "       166.98390043, 163.73449897, 113.22060028, 119.44150077,\n",
       "       122.84029888,  73.09619969, 120.23009933,  91.83599877,\n",
       "        91.58019993, 135.3553994 , 161.51359904, 124.23819876,\n",
       "       159.62370009, 155.6655005 , 117.10429999, 168.28900068,\n",
       "       126.56520134, 117.83920083,  92.91120059, 127.3501001 ,\n",
       "       116.81999995, 122.64590014, 164.74350199, 115.79850022,\n",
       "       114.14410115,  87.95020008, 116.82150017,  88.4580999 ,\n",
       "       114.07210097, 115.30330004, 116.74279934, 112.45129982,\n",
       "       164.6668015 , 120.00240037, 169.55299989, 104.77290003,\n",
       "       154.11020031, 127.08880184, 125.84420029,  89.2847002 ,\n",
       "       126.46580172, 122.68299961,  86.74789957,  92.52929991,\n",
       "       142.96070187, 143.33569686, 119.53610087, 126.21810121,\n",
       "       109.64920222, 104.2906988 ,  99.00329936, 120.15129998,\n",
       "       113.0086012 , 109.12639994, 128.16880139, 134.85089996,\n",
       "       155.0396027 , 104.87600085, 127.61440146,  90.58649956,\n",
       "       132.61050124, 118.20030027, 117.55780043, 124.72810001,\n",
       "       173.23609729, 121.864699  , 128.45179997,  91.09869876,\n",
       "        87.30539891, 131.19780294, 117.68990077,  83.36379842,\n",
       "       143.59570252, 122.26399981, 135.41190066, 163.32449903,\n",
       "        96.36909982, 121.62080111, 158.13150098, 134.23440026,\n",
       "       119.29900173, 108.39989839, 120.550699  , 139.12659922,\n",
       "       134.7483997 , 120.57680045, 108.17710087, 158.00550057,\n",
       "       118.19920155, 118.22930123, 128.25289815, 165.91500275,\n",
       "       120.06909953, 114.46479944, 164.51970044,  88.87380002,\n",
       "       105.15720047, 114.91119908, 127.33620034, 122.35369933,\n",
       "        89.60139906, 167.71349558, 110.14840038,  88.32879914,\n",
       "        92.61249951, 124.58109891, 120.01030165, 146.43809867,\n",
       "        88.34800063, 131.54929782,  93.63320009, 118.79219967,\n",
       "       117.38230086, 113.92590049, 115.49950032, 116.52390113,\n",
       "       122.26099896, 115.20910058, 114.55259871,  87.74210027,\n",
       "       149.30080345, 105.47699997,  73.03010061, 110.10370099,\n",
       "       101.71329908, 108.77840123,  94.11589968, 112.45749934,\n",
       "       121.70539942, 119.91990058, 106.48500138, 110.38200091,\n",
       "       151.67759992,  91.59660036, 127.48790058, 108.65189967,\n",
       "       121.8934003 , 153.55340262, 120.79340172, 155.95810048,\n",
       "       106.44590122,  91.80529846, 172.97630109,  90.46139997,\n",
       "       109.16779927, 127.90360021, 109.89049859, 113.92089985,\n",
       "       127.28180083, 143.27879893,  80.10659945, 154.71129886,\n",
       "       166.70399771,  97.29089821, 127.3072999 , 125.89569956,\n",
       "       118.85319953,  78.02639963,  92.49470026,  97.24869854,\n",
       "       122.26950051,  93.9939005 , 111.96049992, 166.29370024,\n",
       "        91.00219968, 150.99740155, 120.03570041, 113.58979987,\n",
       "       166.57590055, 119.50500032])"
      ]
     },
     "execution_count": 20,
     "metadata": {},
     "output_type": "execute_result"
    }
   ],
   "source": [
    "test_predection"
   ]
  },
  {
   "cell_type": "code",
   "execution_count": 21,
   "id": "ef17e1c4",
   "metadata": {},
   "outputs": [],
   "source": [
    "#### error prediction "
   ]
  },
  {
   "cell_type": "code",
   "execution_count": 22,
   "id": "1c864ca5",
   "metadata": {},
   "outputs": [],
   "source": [
    "error = metrics.r2_score(y_test,test_predection)"
   ]
  },
  {
   "cell_type": "code",
   "execution_count": 23,
   "id": "c6ab59df",
   "metadata": {},
   "outputs": [
    {
     "data": {
      "text/plain": [
       "98.93014106622844"
      ]
     },
     "execution_count": 23,
     "metadata": {},
     "output_type": "execute_result"
    }
   ],
   "source": [
    "error * 100"
   ]
  },
  {
   "cell_type": "code",
   "execution_count": null,
   "id": "c846fc9d",
   "metadata": {},
   "outputs": [],
   "source": []
  },
  {
   "cell_type": "code",
   "execution_count": null,
   "id": "350d689e",
   "metadata": {},
   "outputs": [],
   "source": []
  },
  {
   "cell_type": "code",
   "execution_count": null,
   "id": "e107350b",
   "metadata": {},
   "outputs": [],
   "source": []
  },
  {
   "cell_type": "code",
   "execution_count": null,
   "id": "52033ad4",
   "metadata": {},
   "outputs": [],
   "source": []
  },
  {
   "cell_type": "code",
   "execution_count": null,
   "id": "e5000186",
   "metadata": {},
   "outputs": [],
   "source": []
  }
 ],
 "metadata": {
  "kernelspec": {
   "display_name": "Python 3 (ipykernel)",
   "language": "python",
   "name": "python3"
  },
  "language_info": {
   "codemirror_mode": {
    "name": "ipython",
    "version": 3
   },
   "file_extension": ".py",
   "mimetype": "text/x-python",
   "name": "python",
   "nbconvert_exporter": "python",
   "pygments_lexer": "ipython3",
   "version": "3.11.7"
  }
 },
 "nbformat": 4,
 "nbformat_minor": 5
}
