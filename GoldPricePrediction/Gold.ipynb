{
 "cells": [
  {
   "cell_type": "code",
   "execution_count": 126,
   "id": "bfbde326",
   "metadata": {},
   "outputs": [],
   "source": [
    "import numpy as np\n",
    "import pandas as pd\n",
    "import os\n",
    "from sklearn.model_selection import train_test_split\n",
    "import seaborn as sms\n",
    "import matplotlib.pyplot as plt\n",
    "from sklearn.ensemble import RandomForestRegressor\n",
    "from sklearn import metrics\n",
    "from datetime import datetime\n",
    "import seaborn as sns\n",
    "sns.set()"
   ]
  },
  {
   "cell_type": "code",
   "execution_count": 127,
   "id": "273f7bbf",
   "metadata": {},
   "outputs": [
    {
     "data": {
      "text/plain": [
       "'c:\\\\Users\\\\gunja\\\\Documents\\\\DS and ML\\\\ML\\\\GoldPricePrediction'"
      ]
     },
     "execution_count": 127,
     "metadata": {},
     "output_type": "execute_result"
    }
   ],
   "source": [
    "os.getcwd()"
   ]
  },
  {
   "cell_type": "code",
   "execution_count": 128,
   "id": "d0695937",
   "metadata": {},
   "outputs": [
    {
     "data": {
      "text/html": [
       "<div>\n",
       "<style scoped>\n",
       "    .dataframe tbody tr th:only-of-type {\n",
       "        vertical-align: middle;\n",
       "    }\n",
       "\n",
       "    .dataframe tbody tr th {\n",
       "        vertical-align: top;\n",
       "    }\n",
       "\n",
       "    .dataframe thead th {\n",
       "        text-align: right;\n",
       "    }\n",
       "</style>\n",
       "<table border=\"1\" class=\"dataframe\">\n",
       "  <thead>\n",
       "    <tr style=\"text-align: right;\">\n",
       "      <th></th>\n",
       "      <th>Date</th>\n",
       "      <th>SPX</th>\n",
       "      <th>GLD</th>\n",
       "      <th>USO</th>\n",
       "      <th>SLV</th>\n",
       "      <th>EUR/USD</th>\n",
       "    </tr>\n",
       "  </thead>\n",
       "  <tbody>\n",
       "    <tr>\n",
       "      <th>0</th>\n",
       "      <td>1/2/2008</td>\n",
       "      <td>1447.160034</td>\n",
       "      <td>84.860001</td>\n",
       "      <td>78.470001</td>\n",
       "      <td>15.1800</td>\n",
       "      <td>1.471692</td>\n",
       "    </tr>\n",
       "    <tr>\n",
       "      <th>1</th>\n",
       "      <td>1/3/2008</td>\n",
       "      <td>1447.160034</td>\n",
       "      <td>85.570000</td>\n",
       "      <td>78.370003</td>\n",
       "      <td>15.2850</td>\n",
       "      <td>1.474491</td>\n",
       "    </tr>\n",
       "    <tr>\n",
       "      <th>2</th>\n",
       "      <td>1/4/2008</td>\n",
       "      <td>1411.630005</td>\n",
       "      <td>85.129997</td>\n",
       "      <td>77.309998</td>\n",
       "      <td>15.1670</td>\n",
       "      <td>1.475492</td>\n",
       "    </tr>\n",
       "    <tr>\n",
       "      <th>3</th>\n",
       "      <td>1/7/2008</td>\n",
       "      <td>1416.180054</td>\n",
       "      <td>84.769997</td>\n",
       "      <td>75.500000</td>\n",
       "      <td>15.0530</td>\n",
       "      <td>1.468299</td>\n",
       "    </tr>\n",
       "    <tr>\n",
       "      <th>4</th>\n",
       "      <td>1/8/2008</td>\n",
       "      <td>1390.189941</td>\n",
       "      <td>86.779999</td>\n",
       "      <td>76.059998</td>\n",
       "      <td>15.5900</td>\n",
       "      <td>1.557099</td>\n",
       "    </tr>\n",
       "    <tr>\n",
       "      <th>...</th>\n",
       "      <td>...</td>\n",
       "      <td>...</td>\n",
       "      <td>...</td>\n",
       "      <td>...</td>\n",
       "      <td>...</td>\n",
       "      <td>...</td>\n",
       "    </tr>\n",
       "    <tr>\n",
       "      <th>2285</th>\n",
       "      <td>5/8/2018</td>\n",
       "      <td>2671.919922</td>\n",
       "      <td>124.589996</td>\n",
       "      <td>14.060000</td>\n",
       "      <td>15.5100</td>\n",
       "      <td>1.186789</td>\n",
       "    </tr>\n",
       "    <tr>\n",
       "      <th>2286</th>\n",
       "      <td>5/9/2018</td>\n",
       "      <td>2697.790039</td>\n",
       "      <td>124.330002</td>\n",
       "      <td>14.370000</td>\n",
       "      <td>15.5300</td>\n",
       "      <td>1.184722</td>\n",
       "    </tr>\n",
       "    <tr>\n",
       "      <th>2287</th>\n",
       "      <td>5/10/2018</td>\n",
       "      <td>2723.070068</td>\n",
       "      <td>125.180000</td>\n",
       "      <td>14.410000</td>\n",
       "      <td>15.7400</td>\n",
       "      <td>1.191753</td>\n",
       "    </tr>\n",
       "    <tr>\n",
       "      <th>2288</th>\n",
       "      <td>5/14/2018</td>\n",
       "      <td>2730.129883</td>\n",
       "      <td>124.489998</td>\n",
       "      <td>14.380000</td>\n",
       "      <td>15.5600</td>\n",
       "      <td>1.193118</td>\n",
       "    </tr>\n",
       "    <tr>\n",
       "      <th>2289</th>\n",
       "      <td>5/16/2018</td>\n",
       "      <td>2725.780029</td>\n",
       "      <td>122.543800</td>\n",
       "      <td>14.405800</td>\n",
       "      <td>15.4542</td>\n",
       "      <td>1.182033</td>\n",
       "    </tr>\n",
       "  </tbody>\n",
       "</table>\n",
       "<p>2290 rows × 6 columns</p>\n",
       "</div>"
      ],
      "text/plain": [
       "           Date          SPX         GLD        USO      SLV   EUR/USD\n",
       "0      1/2/2008  1447.160034   84.860001  78.470001  15.1800  1.471692\n",
       "1      1/3/2008  1447.160034   85.570000  78.370003  15.2850  1.474491\n",
       "2      1/4/2008  1411.630005   85.129997  77.309998  15.1670  1.475492\n",
       "3      1/7/2008  1416.180054   84.769997  75.500000  15.0530  1.468299\n",
       "4      1/8/2008  1390.189941   86.779999  76.059998  15.5900  1.557099\n",
       "...         ...          ...         ...        ...      ...       ...\n",
       "2285   5/8/2018  2671.919922  124.589996  14.060000  15.5100  1.186789\n",
       "2286   5/9/2018  2697.790039  124.330002  14.370000  15.5300  1.184722\n",
       "2287  5/10/2018  2723.070068  125.180000  14.410000  15.7400  1.191753\n",
       "2288  5/14/2018  2730.129883  124.489998  14.380000  15.5600  1.193118\n",
       "2289  5/16/2018  2725.780029  122.543800  14.405800  15.4542  1.182033\n",
       "\n",
       "[2290 rows x 6 columns]"
      ]
     },
     "execution_count": 128,
     "metadata": {},
     "output_type": "execute_result"
    }
   ],
   "source": [
    "df = pd.read_csv('archive/gld_price_data.csv')\n",
    "df"
   ]
  },
  {
   "cell_type": "code",
   "execution_count": 129,
   "id": "9f80315b",
   "metadata": {},
   "outputs": [],
   "source": [
    "### data collection and processing"
   ]
  },
  {
   "cell_type": "code",
   "execution_count": 130,
   "id": "8de11a28",
   "metadata": {},
   "outputs": [
    {
     "data": {
      "image/png": "[encoded data removed]",
      "text/plain": [
       "<Figure size 640x480 with 1 Axes>"
      ]
     },
     "metadata": {},
     "output_type": "display_data"
    }
   ],
   "source": [
    "plt.scatter(df['GLD'],df['SLV'])\n",
    "plt.xlabel('gold')\n",
    "plt.ylabel('slv')\n",
    "plt.show()"
   ]
  },
  {
   "cell_type": "code",
   "execution_count": 131,
   "id": "cca90d7a",
   "metadata": {},
   "outputs": [
    {
     "data": {
      "text/plain": [
       "(2290, 6)"
      ]
     },
     "execution_count": 131,
     "metadata": {},
     "output_type": "execute_result"
    }
   ],
   "source": [
    "df.shape"
   ]
  },
  {
   "cell_type": "code",
   "execution_count": 132,
   "id": "4e37082f",
   "metadata": {},
   "outputs": [
    {
     "data": {
      "text/plain": [
       "13740"
      ]
     },
     "execution_count": 132,
     "metadata": {},
     "output_type": "execute_result"
    }
   ],
   "source": [
    "df.size"
   ]
  },
  {
   "cell_type": "code",
   "execution_count": 133,
   "id": "75ce857c",
   "metadata": {},
   "outputs": [
    {
     "data": {
      "text/html": [
       "<div>\n",
       "<style scoped>\n",
       "    .dataframe tbody tr th:only-of-type {\n",
       "        vertical-align: middle;\n",
       "    }\n",
       "\n",
       "    .dataframe tbody tr th {\n",
       "        vertical-align: top;\n",
       "    }\n",
       "\n",
       "    .dataframe thead th {\n",
       "        text-align: right;\n",
       "    }\n",
       "</style>\n",
       "<table border=\"1\" class=\"dataframe\">\n",
       "  <thead>\n",
       "    <tr style=\"text-align: right;\">\n",
       "      <th></th>\n",
       "      <th>SPX</th>\n",
       "      <th>GLD</th>\n",
       "      <th>USO</th>\n",
       "      <th>SLV</th>\n",
       "      <th>EUR/USD</th>\n",
       "    </tr>\n",
       "  </thead>\n",
       "  <tbody>\n",
       "    <tr>\n",
       "      <th>count</th>\n",
       "      <td>2290.000000</td>\n",
       "      <td>2290.000000</td>\n",
       "      <td>2290.000000</td>\n",
       "      <td>2290.000000</td>\n",
       "      <td>2290.000000</td>\n",
       "    </tr>\n",
       "    <tr>\n",
       "      <th>mean</th>\n",
       "      <td>1654.315776</td>\n",
       "      <td>122.732875</td>\n",
       "      <td>31.842221</td>\n",
       "      <td>20.084997</td>\n",
       "      <td>1.283653</td>\n",
       "    </tr>\n",
       "    <tr>\n",
       "      <th>std</th>\n",
       "      <td>519.111540</td>\n",
       "      <td>23.283346</td>\n",
       "      <td>19.523517</td>\n",
       "      <td>7.092566</td>\n",
       "      <td>0.131547</td>\n",
       "    </tr>\n",
       "    <tr>\n",
       "      <th>min</th>\n",
       "      <td>676.530029</td>\n",
       "      <td>70.000000</td>\n",
       "      <td>7.960000</td>\n",
       "      <td>8.850000</td>\n",
       "      <td>1.039047</td>\n",
       "    </tr>\n",
       "    <tr>\n",
       "      <th>25%</th>\n",
       "      <td>1239.874969</td>\n",
       "      <td>109.725000</td>\n",
       "      <td>14.380000</td>\n",
       "      <td>15.570000</td>\n",
       "      <td>1.171313</td>\n",
       "    </tr>\n",
       "    <tr>\n",
       "      <th>50%</th>\n",
       "      <td>1551.434998</td>\n",
       "      <td>120.580002</td>\n",
       "      <td>33.869999</td>\n",
       "      <td>17.268500</td>\n",
       "      <td>1.303297</td>\n",
       "    </tr>\n",
       "    <tr>\n",
       "      <th>75%</th>\n",
       "      <td>2073.010070</td>\n",
       "      <td>132.840004</td>\n",
       "      <td>37.827501</td>\n",
       "      <td>22.882500</td>\n",
       "      <td>1.369971</td>\n",
       "    </tr>\n",
       "    <tr>\n",
       "      <th>max</th>\n",
       "      <td>2872.870117</td>\n",
       "      <td>184.589996</td>\n",
       "      <td>117.480003</td>\n",
       "      <td>47.259998</td>\n",
       "      <td>1.598798</td>\n",
       "    </tr>\n",
       "  </tbody>\n",
       "</table>\n",
       "</div>"
      ],
      "text/plain": [
       "               SPX          GLD          USO          SLV      EUR/USD\n",
       "count  2290.000000  2290.000000  2290.000000  2290.000000  2290.000000\n",
       "mean   1654.315776   122.732875    31.842221    20.084997     1.283653\n",
       "std     519.111540    23.283346    19.523517     7.092566     0.131547\n",
       "min     676.530029    70.000000     7.960000     8.850000     1.039047\n",
       "25%    1239.874969   109.725000    14.380000    15.570000     1.171313\n",
       "50%    1551.434998   120.580002    33.869999    17.268500     1.303297\n",
       "75%    2073.010070   132.840004    37.827501    22.882500     1.369971\n",
       "max    2872.870117   184.589996   117.480003    47.259998     1.598798"
      ]
     },
     "execution_count": 133,
     "metadata": {},
     "output_type": "execute_result"
    }
   ],
   "source": [
    "df.describe()"
   ]
  },
  {
   "cell_type": "code",
   "execution_count": 134,
   "id": "be459ee6",
   "metadata": {},
   "outputs": [
    {
     "name": "stdout",
     "output_type": "stream",
     "text": [
      "<class 'pandas.core.frame.DataFrame'>\n",
      "RangeIndex: 2290 entries, 0 to 2289\n",
      "Data columns (total 6 columns):\n",
      " #   Column   Non-Null Count  Dtype  \n",
      "---  ------   --------------  -----  \n",
      " 0   Date     2290 non-null   object \n",
      " 1   SPX      2290 non-null   float64\n",
      " 2   GLD      2290 non-null   float64\n",
      " 3   USO      2290 non-null   float64\n",
      " 4   SLV      2290 non-null   float64\n",
      " 5   EUR/USD  2290 non-null   float64\n",
      "dtypes: float64(5), object(1)\n",
      "memory usage: 107.5+ KB\n"
     ]
    }
   ],
   "source": [
    "df.info()"
   ]
  },
  {
   "cell_type": "code",
   "execution_count": 135,
   "id": "5f1d96f2",
   "metadata": {},
   "outputs": [
    {
     "data": {
      "text/plain": [
       "Date       0\n",
       "SPX        0\n",
       "GLD        0\n",
       "USO        0\n",
       "SLV        0\n",
       "EUR/USD    0\n",
       "dtype: int64"
      ]
     },
     "execution_count": 135,
     "metadata": {},
     "output_type": "execute_result"
    }
   ],
   "source": [
    "df.isnull().sum()"
   ]
  },
  {
   "cell_type": "code",
   "execution_count": 136,
   "id": "24e9ffde",
   "metadata": {},
   "outputs": [],
   "source": [
    "### getting correlations "
   ]
  },
  {
   "cell_type": "code",
   "execution_count": 137,
   "id": "ea4a888f",
   "metadata": {},
   "outputs": [],
   "source": [
    "df['Date'] = df['Date'].apply(lambda x: datetime.strptime(x, '%m/%d/%Y'))"
   ]
  },
  {
   "cell_type": "code",
   "execution_count": 138,
   "id": "9d0c1dd9",
   "metadata": {},
   "outputs": [
    {
     "data": {
      "text/html": [
       "<div>\n",
       "<style scoped>\n",
       "    .dataframe tbody tr th:only-of-type {\n",
       "        vertical-align: middle;\n",
       "    }\n",
       "\n",
       "    .dataframe tbody tr th {\n",
       "        vertical-align: top;\n",
       "    }\n",
       "\n",
       "    .dataframe thead th {\n",
       "        text-align: right;\n",
       "    }\n",
       "</style>\n",
       "<table border=\"1\" class=\"dataframe\">\n",
       "  <thead>\n",
       "    <tr style=\"text-align: right;\">\n",
       "      <th></th>\n",
       "      <th>Date</th>\n",
       "      <th>SPX</th>\n",
       "      <th>GLD</th>\n",
       "      <th>USO</th>\n",
       "      <th>SLV</th>\n",
       "      <th>EUR/USD</th>\n",
       "    </tr>\n",
       "  </thead>\n",
       "  <tbody>\n",
       "    <tr>\n",
       "      <th>Date</th>\n",
       "      <td>1.000000</td>\n",
       "      <td>0.944033</td>\n",
       "      <td>0.209118</td>\n",
       "      <td>-0.782230</td>\n",
       "      <td>-0.174108</td>\n",
       "      <td>-0.794540</td>\n",
       "    </tr>\n",
       "    <tr>\n",
       "      <th>SPX</th>\n",
       "      <td>0.944033</td>\n",
       "      <td>1.000000</td>\n",
       "      <td>0.049345</td>\n",
       "      <td>-0.591573</td>\n",
       "      <td>-0.274055</td>\n",
       "      <td>-0.672017</td>\n",
       "    </tr>\n",
       "    <tr>\n",
       "      <th>GLD</th>\n",
       "      <td>0.209118</td>\n",
       "      <td>0.049345</td>\n",
       "      <td>1.000000</td>\n",
       "      <td>-0.186360</td>\n",
       "      <td>0.866632</td>\n",
       "      <td>-0.024375</td>\n",
       "    </tr>\n",
       "    <tr>\n",
       "      <th>USO</th>\n",
       "      <td>-0.782230</td>\n",
       "      <td>-0.591573</td>\n",
       "      <td>-0.186360</td>\n",
       "      <td>1.000000</td>\n",
       "      <td>0.167547</td>\n",
       "      <td>0.829317</td>\n",
       "    </tr>\n",
       "    <tr>\n",
       "      <th>SLV</th>\n",
       "      <td>-0.174108</td>\n",
       "      <td>-0.274055</td>\n",
       "      <td>0.866632</td>\n",
       "      <td>0.167547</td>\n",
       "      <td>1.000000</td>\n",
       "      <td>0.321631</td>\n",
       "    </tr>\n",
       "    <tr>\n",
       "      <th>EUR/USD</th>\n",
       "      <td>-0.794540</td>\n",
       "      <td>-0.672017</td>\n",
       "      <td>-0.024375</td>\n",
       "      <td>0.829317</td>\n",
       "      <td>0.321631</td>\n",
       "      <td>1.000000</td>\n",
       "    </tr>\n",
       "  </tbody>\n",
       "</table>\n",
       "</div>"
      ],
      "text/plain": [
       "             Date       SPX       GLD       USO       SLV   EUR/USD\n",
       "Date     1.000000  0.944033  0.209118 -0.782230 -0.174108 -0.794540\n",
       "SPX      0.944033  1.000000  0.049345 -0.591573 -0.274055 -0.672017\n",
       "GLD      0.209118  0.049345  1.000000 -0.186360  0.866632 -0.024375\n",
       "USO     -0.782230 -0.591573 -0.186360  1.000000  0.167547  0.829317\n",
       "SLV     -0.174108 -0.274055  0.866632  0.167547  1.000000  0.321631\n",
       "EUR/USD -0.794540 -0.672017 -0.024375  0.829317  0.321631  1.000000"
      ]
     },
     "execution_count": 138,
     "metadata": {},
     "output_type": "execute_result"
    }
   ],
   "source": [
    "correlation = df.corr()\n",
    "correlation"
   ]
  },
  {
   "cell_type": "code",
   "execution_count": null,
   "id": "95d46fcf",
   "metadata": {},
   "outputs": [],
   "source": []
  },
  {
   "cell_type": "code",
   "execution_count": null,
   "id": "69dd54af",
   "metadata": {},
   "outputs": [],
   "source": []
  },
  {
   "cell_type": "code",
   "execution_count": 139,
   "id": "85e3335b",
   "metadata": {},
   "outputs": [],
   "source": [
    "X = df.drop(['GLD','Date'],axis =1)\n",
    "y = df['GLD']\n"
   ]
  },
  {
   "cell_type": "code",
   "execution_count": 140,
   "id": "d579f582",
   "metadata": {},
   "outputs": [],
   "source": [
    "X_train,x_test,Y_train,y_test = train_test_split(X,y,test_size = 0.2,random_state = 45)"
   ]
  },
  {
   "cell_type": "code",
   "execution_count": null,
   "id": "11a431fd",
   "metadata": {},
   "outputs": [],
   "source": []
  },
  {
   "cell_type": "code",
   "execution_count": 141,
   "id": "55c3d4c8",
   "metadata": {},
   "outputs": [],
   "source": [
    "## regression check"
   ]
  },
  {
   "cell_type": "raw",
   "id": "52d2b947",
   "metadata": {},
   "source": []
  },
  {
   "cell_type": "code",
   "execution_count": 142,
   "id": "3d867a88",
   "metadata": {},
   "outputs": [],
   "source": [
    "regressor = RandomForestRegressor(n_estimators = 100)"
   ]
  },
  {
   "cell_type": "code",
   "execution_count": 143,
   "id": "76e14837",
   "metadata": {},
   "outputs": [
    {
     "data": {
      "text/html": [
       "<style>#sk-container-id-4 {color: black;}#sk-container-id-4 pre{padding: 0;}#sk-container-id-4 div.sk-toggleable {background-color: white;}#sk-container-id-4 label.sk-toggleable__label {cursor: pointer;display: block;width: 100%;margin-bottom: 0;padding: 0.3em;box-sizing: border-box;text-align: center;}#sk-container-id-4 label.sk-toggleable__label-arrow:before {content: \"▸\";float: left;margin-right: 0.25em;color: #696969;}#sk-container-id-4 label.sk-toggleable__label-arrow:hover:before {color: black;}#sk-container-id-4 div.sk-estimator:hover label.sk-toggleable__label-arrow:before {color: black;}#sk-container-id-4 div.sk-toggleable__content {max-height: 0;max-width: 0;overflow: hidden;text-align: left;background-color: #f0f8ff;}#sk-container-id-4 div.sk-toggleable__content pre {margin: 0.2em;color: black;border-radius: 0.25em;background-color: #f0f8ff;}#sk-container-id-4 input.sk-toggleable__control:checked~div.sk-toggleable__content {max-height: 200px;max-width: 100%;overflow: auto;}#sk-container-id-4 input.sk-toggleable__control:checked~label.sk-toggleable__label-arrow:before {content: \"▾\";}#sk-container-id-4 div.sk-estimator input.sk-toggleable__control:checked~label.sk-toggleable__label {background-color: #d4ebff;}#sk-container-id-4 div.sk-label input.sk-toggleable__control:checked~label.sk-toggleable__label {background-color: #d4ebff;}#sk-container-id-4 input.sk-hidden--visually {border: 0;clip: rect(1px 1px 1px 1px);clip: rect(1px, 1px, 1px, 1px);height: 1px;margin: -1px;overflow: hidden;padding: 0;position: absolute;width: 1px;}#sk-container-id-4 div.sk-estimator {font-family: monospace;background-color: #f0f8ff;border: 1px dotted black;border-radius: 0.25em;box-sizing: border-box;margin-bottom: 0.5em;}#sk-container-id-4 div.sk-estimator:hover {background-color: #d4ebff;}#sk-container-id-4 div.sk-parallel-item::after {content: \"\";width: 100%;border-bottom: 1px solid gray;flex-grow: 1;}#sk-container-id-4 div.sk-label:hover label.sk-toggleable__label {background-color: #d4ebff;}#sk-container-id-4 div.sk-serial::before {content: \"\";position: absolute;border-left: 1px solid gray;box-sizing: border-box;top: 0;bottom: 0;left: 50%;z-index: 0;}#sk-container-id-4 div.sk-serial {display: flex;flex-direction: column;align-items: center;background-color: white;padding-right: 0.2em;padding-left: 0.2em;position: relative;}#sk-container-id-4 div.sk-item {position: relative;z-index: 1;}#sk-container-id-4 div.sk-parallel {display: flex;align-items: stretch;justify-content: center;background-color: white;position: relative;}#sk-container-id-4 div.sk-item::before, #sk-container-id-4 div.sk-parallel-item::before {content: \"\";position: absolute;border-left: 1px solid gray;box-sizing: border-box;top: 0;bottom: 0;left: 50%;z-index: -1;}#sk-container-id-4 div.sk-parallel-item {display: flex;flex-direction: column;z-index: 1;position: relative;background-color: white;}#sk-container-id-4 div.sk-parallel-item:first-child::after {align-self: flex-end;width: 50%;}#sk-container-id-4 div.sk-parallel-item:last-child::after {align-self: flex-start;width: 50%;}#sk-container-id-4 div.sk-parallel-item:only-child::after {width: 0;}#sk-container-id-4 div.sk-dashed-wrapped {border: 1px dashed gray;margin: 0 0.4em 0.5em 0.4em;box-sizing: border-box;padding-bottom: 0.4em;background-color: white;}#sk-container-id-4 div.sk-label label {font-family: monospace;font-weight: bold;display: inline-block;line-height: 1.2em;}#sk-container-id-4 div.sk-label-container {text-align: center;}#sk-container-id-4 div.sk-container {/* jupyter's `normalize.less` sets `[hidden] { display: none; }` but bootstrap.min.css set `[hidden] { display: none !important; }` so we also need the `!important` here to be able to override the default hidden behavior on the sphinx rendered scikit-learn.org. See: https://github.com/scikit-learn/scikit-learn/issues/21755 */display: inline-block !important;position: relative;}#sk-container-id-4 div.sk-text-repr-fallback {display: none;}</style><div id=\"sk-container-id-4\" class=\"sk-top-container\"><div class=\"sk-text-repr-fallback\"><pre>RandomForestRegressor()</pre><b>In a Jupyter environment, please rerun this cell to show the HTML representation or trust the notebook. <br />On GitHub, the HTML representation is unable to render, please try loading this page with nbviewer.org.</b></div><div class=\"sk-container\" hidden><div class=\"sk-item\"><div class=\"sk-estimator sk-toggleable\"><input class=\"sk-toggleable__control sk-hidden--visually\" id=\"sk-estimator-id-4\" type=\"checkbox\" checked><label for=\"sk-estimator-id-4\" class=\"sk-toggleable__label sk-toggleable__label-arrow\">RandomForestRegressor</label><div class=\"sk-toggleable__content\"><pre>RandomForestRegressor()</pre></div></div></div></div></div>"
      ],
      "text/plain": [
       "RandomForestRegressor()"
      ]
     },
     "execution_count": 143,
     "metadata": {},
     "output_type": "execute_result"
    }
   ],
   "source": [
    "regressor.fit(X_train,Y_train)"
   ]
  },
  {
   "cell_type": "code",
   "execution_count": 144,
   "id": "f805795e",
   "metadata": {},
   "outputs": [],
   "source": [
    "test_predection  = regressor.predict(x_test)"
   ]
  },
  {
   "cell_type": "code",
   "execution_count": 145,
   "id": "b9dd4108",
   "metadata": {},
   "outputs": [
    {
     "data": {
      "text/plain": [
       "array([117.08520101,  86.67269839, 127.70409988, 153.33530163,\n",
       "       125.30210102, 124.44750067, 153.48830195, 120.72500102,\n",
       "       140.79170062, 127.91490257, 106.45320093, 114.33000033,\n",
       "       120.45880102, 106.66689897, 139.55140398,  94.56040082,\n",
       "       164.52990052, 155.5855038 , 167.24569898, 150.24610159,\n",
       "        88.27439941, 116.59040009, 126.88340087, 114.50430043,\n",
       "       176.39329998, 127.82510096, 150.35550177, 124.98640018,\n",
       "       123.20689967, 126.82669977, 160.29990005, 108.58269916,\n",
       "       118.03679924, 134.87340052, 115.06560167, 115.10360096,\n",
       "       112.89959982, 119.55820021, 109.7659007 , 153.5489016 ,\n",
       "       132.89270101, 130.87910361, 117.64740057, 107.78029863,\n",
       "       139.51230143, 118.07520073, 160.81120428, 167.81160123,\n",
       "       122.39179968, 122.98749975, 114.31370026, 106.98839894,\n",
       "       104.39840161, 123.96209899, 124.16190017, 124.93970044,\n",
       "       115.55679946, 156.40159839, 110.02249993,  88.93010019,\n",
       "       105.40120048, 118.39510111, 112.25750003, 161.84080198,\n",
       "       117.50440039, 114.38939982, 127.96899994, 123.74419932,\n",
       "       116.55200052, 118.17269964,  86.02760041, 166.03140277,\n",
       "       104.17990055, 159.35089572, 121.41679959, 114.10199938,\n",
       "       132.60970084, 125.88500166, 160.20019653, 118.98399944,\n",
       "       116.74919985,  91.2710988 ,  89.34859962, 108.43069961,\n",
       "       114.60499894,  89.73069843, 116.90010184, 144.53299945,\n",
       "       126.55419879, 159.85639611, 119.14029952, 158.89919909,\n",
       "       155.04240275,  72.78730071, 103.40429853, 177.31720124,\n",
       "       142.51060129, 123.94629975, 113.7132992 , 113.3220994 ,\n",
       "       105.0142995 , 125.74760018, 121.07689849, 121.08580126,\n",
       "       118.76519984, 144.6589949 ,  90.69400001, 104.23590022,\n",
       "       121.61079941,  86.04619892, 119.42180015,  96.11429873,\n",
       "       153.99000132, 122.88610043, 164.2630027 , 126.24809867,\n",
       "        91.97610086, 123.0765997 , 119.32850076, 126.61919881,\n",
       "       114.87940068, 160.21190292, 124.87929877,  84.22730073,\n",
       "        96.03419973, 115.6091011 , 163.66130121, 121.07209893,\n",
       "       155.0911012 , 125.67220046, 121.2655007 , 126.4308005 ,\n",
       "       119.24990004, 119.84870181, 135.97859863, 119.56000019,\n",
       "       139.64769884,  92.02090096, 129.00790157, 123.52219874,\n",
       "       115.46349848, 127.64949875,  96.5976974 , 168.3268004 ,\n",
       "       119.63649998, 102.39189921,  93.64629842,  88.06039967,\n",
       "       119.48199974, 162.99510245, 137.34939954, 102.83699924,\n",
       "        92.7317001 ,  85.20849978, 155.36070198, 154.83839977,\n",
       "       120.73229976,  93.10239986, 122.31689929, 133.75709909,\n",
       "       154.27510343, 161.33880126, 115.80800068,  89.51179971,\n",
       "       118.65330122, 157.38559845, 124.661899  , 124.14240016,\n",
       "       162.89700134, 141.95920028, 121.68839879, 116.96440106,\n",
       "        90.69389998, 122.5455998 ,  91.73829967, 120.90530058,\n",
       "       107.67289899,  89.41719943, 131.33160229,  92.18629953,\n",
       "       146.706999  , 164.07149912, 139.70100189, 170.1597998 ,\n",
       "       119.46330044,  94.09549884, 169.34279988, 121.02259889,\n",
       "       154.96690288, 140.384799  , 147.58209667, 134.45939951,\n",
       "       109.39279942, 145.40960008, 115.27970064, 124.57049959,\n",
       "        88.33729895, 113.57680006, 121.26569864, 128.504599  ,\n",
       "        86.28419896,  85.62169991, 121.85029917, 127.82490016,\n",
       "       110.7532009 , 121.41870004, 109.01850035, 164.03930106,\n",
       "       135.63560217, 156.29340015, 119.16590002, 133.0906998 ,\n",
       "       106.52760119, 112.07090087, 102.03870014, 122.0966004 ,\n",
       "       118.64790055, 155.48259987, 126.2480999 , 107.5969995 ,\n",
       "       122.22929948,  90.71999992, 119.71310128,  86.2856978 ,\n",
       "       142.76600135, 125.14510016, 113.91289865,  88.64480041,\n",
       "       118.11510071, 130.63110432, 126.7832008 , 125.206701  ,\n",
       "       116.70640001, 158.05680095, 123.8843005 , 172.34900091,\n",
       "       131.52990004,  84.44109872, 172.88029698, 126.87309805,\n",
       "       107.45269918, 114.26050025, 112.66410059, 125.06590131,\n",
       "       120.26900102, 107.39290154, 108.06330083,  88.60270009,\n",
       "        88.56079952, 160.18589711, 135.01519922, 147.14210083,\n",
       "       136.99880215, 125.30959883, 117.06750101, 114.67109975,\n",
       "       171.50130336,  90.3193997 , 117.71370026, 163.20959897,\n",
       "       144.86770188, 135.67590084, 158.61920027, 129.04510122,\n",
       "       121.44459961, 121.06309906,  76.32030017,  90.56650026,\n",
       "        82.46270149, 152.84280129, 125.37439922, 120.1980015 ,\n",
       "       120.33250081,  92.08640085, 139.98930218, 125.67100006,\n",
       "       120.5204012 , 120.41939948, 113.59520016, 124.19299937,\n",
       "        96.71330156,  96.93599759, 121.13770084, 116.13269894,\n",
       "       110.3744988 , 152.66400072, 123.33530124,  88.92270006,\n",
       "       166.99230086, 164.27629905, 114.11730009, 119.28440152,\n",
       "       122.85499884,  73.38459942, 120.30489912,  91.64459903,\n",
       "        91.6951996 , 135.5360001 , 161.47519887, 124.22159852,\n",
       "       159.65610072, 155.1889003 , 117.29490034, 167.78710023,\n",
       "       126.69950135, 117.85460065,  92.63070031, 127.45210021,\n",
       "       116.63219997, 122.77740004, 165.28890087, 116.02080035,\n",
       "       114.35210112,  87.97090006, 116.84039978,  88.15639975,\n",
       "       114.29620087, 115.22109956, 116.47379973, 112.40219939,\n",
       "       164.98230099, 120.03540036, 169.38929945, 104.70119991,\n",
       "       154.32989987, 127.31330188, 125.8272001 ,  89.31760044,\n",
       "       126.35970146, 122.56729955,  86.50419983,  92.89959999,\n",
       "       142.44750191, 143.25599639, 119.85000107, 126.19590118,\n",
       "       109.39310149, 104.29189881,  99.18439956, 119.93440046,\n",
       "       113.16720071, 109.15849944, 128.21990196, 134.74539945,\n",
       "       155.02150297, 104.84459985, 127.37680053,  90.6748994 ,\n",
       "       132.92340032, 118.33730022, 117.56059994, 125.20049998,\n",
       "       172.98939712, 121.51239908, 128.35899993,  90.69559939,\n",
       "        87.00669867, 130.89140338, 117.82710093,  83.63649852,\n",
       "       143.72960206, 122.17009984, 135.38730086, 163.50619859,\n",
       "        96.32369965, 121.71190111, 157.86290083, 134.24920056,\n",
       "       119.25300219, 108.43119818, 120.61519902, 139.09949911,\n",
       "       134.73769993, 120.37110028, 108.12880104, 158.94280005,\n",
       "       118.07240163, 118.4406016 , 128.11859861, 166.76550228,\n",
       "       120.09789943, 114.47009933, 164.67800016,  87.32779942,\n",
       "       105.32190039, 114.97249925, 127.28569986, 122.68719906,\n",
       "        89.72809931, 167.66429529, 110.37220052,  88.24099883,\n",
       "        92.38919965, 124.63809873, 120.0063011 , 145.96639976,\n",
       "        88.47689985, 131.32969775,  93.43560008, 119.09909997,\n",
       "       117.36020118, 113.83450042, 115.55030034, 117.4233008 ,\n",
       "       122.47569891, 115.29470023, 114.3797988 ,  87.70290032,\n",
       "       149.2828038 , 105.59920026,  72.94740062, 110.24700149,\n",
       "       101.22109931, 108.7721016 ,  94.07989984, 112.43019944,\n",
       "       121.80329912, 119.63180017, 106.25340144, 110.53140093,\n",
       "       151.64220002,  91.5704001 , 127.66550099, 108.87589962,\n",
       "       121.82579988, 153.57960237, 120.93940175, 155.85990036,\n",
       "       106.71430125,  91.81609831, 174.07350174,  90.83509978,\n",
       "       109.54909909, 127.77359966, 109.70179871, 113.93029895,\n",
       "       126.9358005 , 143.06679888,  80.1369994 , 153.71149906,\n",
       "       167.18159749,  97.34579802, 127.32879984, 125.90769954,\n",
       "       118.69629972,  77.66149943,  92.62539993,  97.33649855,\n",
       "       121.90690092,  93.67889999, 112.25699993, 169.01630054,\n",
       "        91.00039967, 150.40800152, 119.8776998 , 113.46089997,\n",
       "       166.14150159, 119.57160016])"
      ]
     },
     "execution_count": 145,
     "metadata": {},
     "output_type": "execute_result"
    }
   ],
   "source": [
    "test_predection"
   ]
  },
  {
   "cell_type": "code",
   "execution_count": 146,
   "id": "ef17e1c4",
   "metadata": {},
   "outputs": [],
   "source": [
    "#### error prediction "
   ]
  },
  {
   "cell_type": "code",
   "execution_count": 147,
   "id": "1c864ca5",
   "metadata": {},
   "outputs": [],
   "source": [
    "error = metrics.r2_score(y_test,test_predection)"
   ]
  },
  {
   "cell_type": "code",
   "execution_count": 148,
   "id": "c6ab59df",
   "metadata": {},
   "outputs": [
    {
     "data": {
      "text/plain": [
       "98.97254907860857"
      ]
     },
     "execution_count": 148,
     "metadata": {},
     "output_type": "execute_result"
    }
   ],
   "source": [
    "error * 100"
   ]
  },
  {
   "cell_type": "code",
   "execution_count": 149,
   "id": "c846fc9d",
   "metadata": {},
   "outputs": [],
   "source": [
    "from tensorflow.keras.layers import Dense,Dropout\n",
    "import tensorflow as tf"
   ]
  },
  {
   "cell_type": "code",
   "execution_count": 150,
   "id": "350d689e",
   "metadata": {},
   "outputs": [],
   "source": [
    "from tensorflow.keras.models import Sequential\n",
    "model = Sequential()"
   ]
  },
  {
   "cell_type": "code",
   "execution_count": 151,
   "id": "e87e4c89",
   "metadata": {},
   "outputs": [
    {
     "data": {
      "text/plain": [
       "(1832, 4)"
      ]
     },
     "execution_count": 151,
     "metadata": {},
     "output_type": "execute_result"
    }
   ],
   "source": [
    "X_train.shape"
   ]
  },
  {
   "cell_type": "code",
   "execution_count": 152,
   "id": "e107350b",
   "metadata": {},
   "outputs": [],
   "source": [
    "model.add(Dense(128,activation='ReLU',input_shape=(4,)))\n",
    "model.add(Dense(64,activation='ReLU'))\n",
    "model.add(Dense(32,activation='ReLU'))\n",
    "model.add(Dense(1,activation='ReLU'))"
   ]
  },
  {
   "cell_type": "code",
   "execution_count": 153,
   "id": "52033ad4",
   "metadata": {},
   "outputs": [],
   "source": [
    "# model.compile(optimizer='SGD',loss='mean_squared_error',metrics='accuracy')"
   ]
  },
  {
   "cell_type": "code",
   "execution_count": 157,
   "id": "45c56d03",
   "metadata": {},
   "outputs": [],
   "source": [
    "from keras.optimizers import Adam\n",
    "\n",
    "model.compile(loss='mean_squared_error', optimizer=Adam(), metrics=['mean_squared_error','accuracy'])\n"
   ]
  },
  {
   "cell_type": "code",
   "execution_count": 158,
   "id": "e5000186",
   "metadata": {},
   "outputs": [
    {
     "name": "stdout",
     "output_type": "stream",
     "text": [
      "Model: \"sequential_4\"\n",
      "_________________________________________________________________\n",
      " Layer (type)                Output Shape              Param #   \n",
      "=================================================================\n",
      " dense_39 (Dense)            (None, 128)               640       \n",
      "                                                                 \n",
      " dense_40 (Dense)            (None, 64)                8256      \n",
      "                                                                 \n",
      " dense_41 (Dense)            (None, 32)                2080      \n",
      "                                                                 \n",
      " dense_42 (Dense)            (None, 1)                 33        \n",
      "                                                                 \n",
      "=================================================================\n",
      "Total params: 11,009\n",
      "Trainable params: 11,009\n",
      "Non-trainable params: 0\n",
      "_________________________________________________________________\n"
     ]
    }
   ],
   "source": [
    "model.summary()"
   ]
  },
  {
   "cell_type": "code",
   "execution_count": 159,
   "id": "124cfb60",
   "metadata": {},
   "outputs": [
    {
     "name": "stdout",
     "output_type": "stream",
     "text": [
      "Epoch 1/100\n",
      "58/58 [==============================] - 1s 6ms/step - loss: 15613.7744 - mean_squared_error: 15613.7744 - accuracy: 0.0000e+00 - val_loss: 15571.0908 - val_mean_squared_error: 15571.0908 - val_accuracy: 0.0000e+00\n",
      "Epoch 2/100\n",
      "58/58 [==============================] - 0s 4ms/step - loss: 15613.7686 - mean_squared_error: 15613.7686 - accuracy: 0.0000e+00 - val_loss: 15571.0908 - val_mean_squared_error: 15571.0908 - val_accuracy: 0.0000e+00\n",
      "Epoch 3/100\n",
      "58/58 [==============================] - 0s 4ms/step - loss: 15613.7725 - mean_squared_error: 15613.7725 - accuracy: 0.0000e+00 - val_loss: 15571.0908 - val_mean_squared_error: 15571.0908 - val_accuracy: 0.0000e+00\n",
      "Epoch 4/100\n",
      "58/58 [==============================] - 0s 4ms/step - loss: 15613.7744 - mean_squared_error: 15613.7744 - accuracy: 0.0000e+00 - val_loss: 15571.0908 - val_mean_squared_error: 15571.0908 - val_accuracy: 0.0000e+00\n",
      "Epoch 5/100\n",
      "58/58 [==============================] - 0s 3ms/step - loss: 15613.7705 - mean_squared_error: 15613.7705 - accuracy: 0.0000e+00 - val_loss: 15571.0908 - val_mean_squared_error: 15571.0908 - val_accuracy: 0.0000e+00\n",
      "Epoch 6/100\n",
      "58/58 [==============================] - 0s 3ms/step - loss: 15613.7744 - mean_squared_error: 15613.7744 - accuracy: 0.0000e+00 - val_loss: 15571.0908 - val_mean_squared_error: 15571.0908 - val_accuracy: 0.0000e+00\n",
      "Epoch 7/100\n",
      "58/58 [==============================] - 0s 3ms/step - loss: 15613.7686 - mean_squared_error: 15613.7686 - accuracy: 0.0000e+00 - val_loss: 15571.0908 - val_mean_squared_error: 15571.0908 - val_accuracy: 0.0000e+00\n",
      "Epoch 8/100\n",
      "58/58 [==============================] - 0s 3ms/step - loss: 15613.7705 - mean_squared_error: 15613.7705 - accuracy: 0.0000e+00 - val_loss: 15571.0908 - val_mean_squared_error: 15571.0908 - val_accuracy: 0.0000e+00\n",
      "Epoch 9/100\n",
      "58/58 [==============================] - 0s 3ms/step - loss: 15613.7725 - mean_squared_error: 15613.7725 - accuracy: 0.0000e+00 - val_loss: 15571.0908 - val_mean_squared_error: 15571.0908 - val_accuracy: 0.0000e+00\n",
      "Epoch 10/100\n",
      "58/58 [==============================] - 0s 3ms/step - loss: 15613.7725 - mean_squared_error: 15613.7725 - accuracy: 0.0000e+00 - val_loss: 15571.0908 - val_mean_squared_error: 15571.0908 - val_accuracy: 0.0000e+00\n",
      "Epoch 11/100\n",
      "58/58 [==============================] - 0s 3ms/step - loss: 15613.7715 - mean_squared_error: 15613.7715 - accuracy: 0.0000e+00 - val_loss: 15571.0908 - val_mean_squared_error: 15571.0908 - val_accuracy: 0.0000e+00\n",
      "Epoch 12/100\n",
      "58/58 [==============================] - 0s 3ms/step - loss: 15613.7744 - mean_squared_error: 15613.7744 - accuracy: 0.0000e+00 - val_loss: 15571.0908 - val_mean_squared_error: 15571.0908 - val_accuracy: 0.0000e+00\n",
      "Epoch 13/100\n",
      "58/58 [==============================] - 0s 3ms/step - loss: 15613.7725 - mean_squared_error: 15613.7725 - accuracy: 0.0000e+00 - val_loss: 15571.0908 - val_mean_squared_error: 15571.0908 - val_accuracy: 0.0000e+00\n",
      "Epoch 14/100\n",
      "58/58 [==============================] - 0s 3ms/step - loss: 15613.7715 - mean_squared_error: 15613.7715 - accuracy: 0.0000e+00 - val_loss: 15571.0908 - val_mean_squared_error: 15571.0908 - val_accuracy: 0.0000e+00\n",
      "Epoch 15/100\n",
      "58/58 [==============================] - 0s 3ms/step - loss: 15613.7725 - mean_squared_error: 15613.7725 - accuracy: 0.0000e+00 - val_loss: 15571.0908 - val_mean_squared_error: 15571.0908 - val_accuracy: 0.0000e+00\n",
      "Epoch 16/100\n",
      "58/58 [==============================] - 0s 3ms/step - loss: 15613.7715 - mean_squared_error: 15613.7715 - accuracy: 0.0000e+00 - val_loss: 15571.0908 - val_mean_squared_error: 15571.0908 - val_accuracy: 0.0000e+00\n",
      "Epoch 17/100\n",
      "58/58 [==============================] - 0s 3ms/step - loss: 15613.7715 - mean_squared_error: 15613.7715 - accuracy: 0.0000e+00 - val_loss: 15571.0908 - val_mean_squared_error: 15571.0908 - val_accuracy: 0.0000e+00\n",
      "Epoch 18/100\n",
      "58/58 [==============================] - 0s 3ms/step - loss: 15613.7705 - mean_squared_error: 15613.7705 - accuracy: 0.0000e+00 - val_loss: 15571.0908 - val_mean_squared_error: 15571.0908 - val_accuracy: 0.0000e+00\n",
      "Epoch 19/100\n",
      "58/58 [==============================] - 0s 3ms/step - loss: 15613.7725 - mean_squared_error: 15613.7725 - accuracy: 0.0000e+00 - val_loss: 15571.0908 - val_mean_squared_error: 15571.0908 - val_accuracy: 0.0000e+00\n",
      "Epoch 20/100\n",
      "58/58 [==============================] - 0s 4ms/step - loss: 15613.7705 - mean_squared_error: 15613.7705 - accuracy: 0.0000e+00 - val_loss: 15571.0908 - val_mean_squared_error: 15571.0908 - val_accuracy: 0.0000e+00\n",
      "Epoch 21/100\n",
      "58/58 [==============================] - 0s 4ms/step - loss: 15613.7695 - mean_squared_error: 15613.7695 - accuracy: 0.0000e+00 - val_loss: 15571.0908 - val_mean_squared_error: 15571.0908 - val_accuracy: 0.0000e+00\n",
      "Epoch 22/100\n",
      "58/58 [==============================] - 0s 3ms/step - loss: 15613.7744 - mean_squared_error: 15613.7744 - accuracy: 0.0000e+00 - val_loss: 15571.0908 - val_mean_squared_error: 15571.0908 - val_accuracy: 0.0000e+00\n",
      "Epoch 23/100\n",
      "58/58 [==============================] - 0s 3ms/step - loss: 15613.7715 - mean_squared_error: 15613.7715 - accuracy: 0.0000e+00 - val_loss: 15571.0908 - val_mean_squared_error: 15571.0908 - val_accuracy: 0.0000e+00\n",
      "Epoch 24/100\n",
      "58/58 [==============================] - 0s 3ms/step - loss: 15613.7764 - mean_squared_error: 15613.7764 - accuracy: 0.0000e+00 - val_loss: 15571.0908 - val_mean_squared_error: 15571.0908 - val_accuracy: 0.0000e+00\n",
      "Epoch 25/100\n",
      "58/58 [==============================] - 0s 3ms/step - loss: 15613.7715 - mean_squared_error: 15613.7715 - accuracy: 0.0000e+00 - val_loss: 15571.0908 - val_mean_squared_error: 15571.0908 - val_accuracy: 0.0000e+00\n",
      "Epoch 26/100\n",
      "58/58 [==============================] - 0s 4ms/step - loss: 15613.7754 - mean_squared_error: 15613.7754 - accuracy: 0.0000e+00 - val_loss: 15571.0908 - val_mean_squared_error: 15571.0908 - val_accuracy: 0.0000e+00\n",
      "Epoch 27/100\n",
      "58/58 [==============================] - 0s 3ms/step - loss: 15613.7744 - mean_squared_error: 15613.7744 - accuracy: 0.0000e+00 - val_loss: 15571.0908 - val_mean_squared_error: 15571.0908 - val_accuracy: 0.0000e+00\n",
      "Epoch 28/100\n",
      "58/58 [==============================] - 0s 4ms/step - loss: 15613.7725 - mean_squared_error: 15613.7725 - accuracy: 0.0000e+00 - val_loss: 15571.0908 - val_mean_squared_error: 15571.0908 - val_accuracy: 0.0000e+00\n",
      "Epoch 29/100\n",
      "58/58 [==============================] - 0s 4ms/step - loss: 15613.7705 - mean_squared_error: 15613.7705 - accuracy: 0.0000e+00 - val_loss: 15571.0908 - val_mean_squared_error: 15571.0908 - val_accuracy: 0.0000e+00\n",
      "Epoch 30/100\n",
      "58/58 [==============================] - 0s 4ms/step - loss: 15613.7715 - mean_squared_error: 15613.7715 - accuracy: 0.0000e+00 - val_loss: 15571.0908 - val_mean_squared_error: 15571.0908 - val_accuracy: 0.0000e+00\n",
      "Epoch 31/100\n",
      "58/58 [==============================] - 0s 3ms/step - loss: 15613.7705 - mean_squared_error: 15613.7705 - accuracy: 0.0000e+00 - val_loss: 15571.0908 - val_mean_squared_error: 15571.0908 - val_accuracy: 0.0000e+00\n",
      "Epoch 32/100\n",
      "58/58 [==============================] - 0s 3ms/step - loss: 15613.7705 - mean_squared_error: 15613.7705 - accuracy: 0.0000e+00 - val_loss: 15571.0908 - val_mean_squared_error: 15571.0908 - val_accuracy: 0.0000e+00\n",
      "Epoch 33/100\n",
      "58/58 [==============================] - 0s 3ms/step - loss: 15613.7725 - mean_squared_error: 15613.7725 - accuracy: 0.0000e+00 - val_loss: 15571.0908 - val_mean_squared_error: 15571.0908 - val_accuracy: 0.0000e+00\n",
      "Epoch 34/100\n",
      "58/58 [==============================] - 0s 3ms/step - loss: 15613.7725 - mean_squared_error: 15613.7725 - accuracy: 0.0000e+00 - val_loss: 15571.0908 - val_mean_squared_error: 15571.0908 - val_accuracy: 0.0000e+00\n",
      "Epoch 35/100\n",
      "58/58 [==============================] - 0s 3ms/step - loss: 15613.7715 - mean_squared_error: 15613.7715 - accuracy: 0.0000e+00 - val_loss: 15571.0908 - val_mean_squared_error: 15571.0908 - val_accuracy: 0.0000e+00\n",
      "Epoch 36/100\n",
      "58/58 [==============================] - 0s 3ms/step - loss: 15613.7725 - mean_squared_error: 15613.7725 - accuracy: 0.0000e+00 - val_loss: 15571.0908 - val_mean_squared_error: 15571.0908 - val_accuracy: 0.0000e+00\n",
      "Epoch 37/100\n",
      "58/58 [==============================] - 0s 3ms/step - loss: 15613.7725 - mean_squared_error: 15613.7725 - accuracy: 0.0000e+00 - val_loss: 15571.0908 - val_mean_squared_error: 15571.0908 - val_accuracy: 0.0000e+00\n",
      "Epoch 38/100\n",
      "58/58 [==============================] - 0s 3ms/step - loss: 15613.7715 - mean_squared_error: 15613.7715 - accuracy: 0.0000e+00 - val_loss: 15571.0908 - val_mean_squared_error: 15571.0908 - val_accuracy: 0.0000e+00\n",
      "Epoch 39/100\n",
      "58/58 [==============================] - 0s 3ms/step - loss: 15613.7764 - mean_squared_error: 15613.7764 - accuracy: 0.0000e+00 - val_loss: 15571.0908 - val_mean_squared_error: 15571.0908 - val_accuracy: 0.0000e+00\n",
      "Epoch 40/100\n",
      "58/58 [==============================] - 0s 3ms/step - loss: 15613.7764 - mean_squared_error: 15613.7764 - accuracy: 0.0000e+00 - val_loss: 15571.0908 - val_mean_squared_error: 15571.0908 - val_accuracy: 0.0000e+00\n",
      "Epoch 41/100\n",
      "58/58 [==============================] - 0s 3ms/step - loss: 15613.7715 - mean_squared_error: 15613.7715 - accuracy: 0.0000e+00 - val_loss: 15571.0908 - val_mean_squared_error: 15571.0908 - val_accuracy: 0.0000e+00\n",
      "Epoch 42/100\n",
      "58/58 [==============================] - 0s 3ms/step - loss: 15613.7744 - mean_squared_error: 15613.7744 - accuracy: 0.0000e+00 - val_loss: 15571.0908 - val_mean_squared_error: 15571.0908 - val_accuracy: 0.0000e+00\n",
      "Epoch 43/100\n",
      "58/58 [==============================] - 0s 3ms/step - loss: 15613.7744 - mean_squared_error: 15613.7744 - accuracy: 0.0000e+00 - val_loss: 15571.0908 - val_mean_squared_error: 15571.0908 - val_accuracy: 0.0000e+00\n",
      "Epoch 44/100\n",
      "58/58 [==============================] - 0s 3ms/step - loss: 15613.7705 - mean_squared_error: 15613.7705 - accuracy: 0.0000e+00 - val_loss: 15571.0908 - val_mean_squared_error: 15571.0908 - val_accuracy: 0.0000e+00\n",
      "Epoch 45/100\n",
      "58/58 [==============================] - 0s 3ms/step - loss: 15613.7725 - mean_squared_error: 15613.7725 - accuracy: 0.0000e+00 - val_loss: 15571.0908 - val_mean_squared_error: 15571.0908 - val_accuracy: 0.0000e+00\n",
      "Epoch 46/100\n",
      "58/58 [==============================] - 0s 3ms/step - loss: 15613.7715 - mean_squared_error: 15613.7715 - accuracy: 0.0000e+00 - val_loss: 15571.0908 - val_mean_squared_error: 15571.0908 - val_accuracy: 0.0000e+00\n",
      "Epoch 47/100\n",
      "58/58 [==============================] - 0s 3ms/step - loss: 15613.7725 - mean_squared_error: 15613.7725 - accuracy: 0.0000e+00 - val_loss: 15571.0908 - val_mean_squared_error: 15571.0908 - val_accuracy: 0.0000e+00\n",
      "Epoch 48/100\n",
      "58/58 [==============================] - 0s 3ms/step - loss: 15613.7725 - mean_squared_error: 15613.7725 - accuracy: 0.0000e+00 - val_loss: 15571.0908 - val_mean_squared_error: 15571.0908 - val_accuracy: 0.0000e+00\n",
      "Epoch 49/100\n",
      "58/58 [==============================] - 0s 3ms/step - loss: 15613.7725 - mean_squared_error: 15613.7725 - accuracy: 0.0000e+00 - val_loss: 15571.0908 - val_mean_squared_error: 15571.0908 - val_accuracy: 0.0000e+00\n",
      "Epoch 50/100\n",
      "58/58 [==============================] - 0s 3ms/step - loss: 15613.7754 - mean_squared_error: 15613.7754 - accuracy: 0.0000e+00 - val_loss: 15571.0908 - val_mean_squared_error: 15571.0908 - val_accuracy: 0.0000e+00\n",
      "Epoch 51/100\n",
      "58/58 [==============================] - 0s 3ms/step - loss: 15613.7715 - mean_squared_error: 15613.7715 - accuracy: 0.0000e+00 - val_loss: 15571.0908 - val_mean_squared_error: 15571.0908 - val_accuracy: 0.0000e+00\n",
      "Epoch 52/100\n",
      "58/58 [==============================] - 0s 3ms/step - loss: 15613.7715 - mean_squared_error: 15613.7715 - accuracy: 0.0000e+00 - val_loss: 15571.0908 - val_mean_squared_error: 15571.0908 - val_accuracy: 0.0000e+00\n",
      "Epoch 53/100\n",
      "58/58 [==============================] - 0s 3ms/step - loss: 15613.7715 - mean_squared_error: 15613.7715 - accuracy: 0.0000e+00 - val_loss: 15571.0908 - val_mean_squared_error: 15571.0908 - val_accuracy: 0.0000e+00\n",
      "Epoch 54/100\n",
      "58/58 [==============================] - 0s 3ms/step - loss: 15613.7764 - mean_squared_error: 15613.7764 - accuracy: 0.0000e+00 - val_loss: 15571.0908 - val_mean_squared_error: 15571.0908 - val_accuracy: 0.0000e+00\n",
      "Epoch 55/100\n",
      "58/58 [==============================] - 0s 3ms/step - loss: 15613.7705 - mean_squared_error: 15613.7705 - accuracy: 0.0000e+00 - val_loss: 15571.0908 - val_mean_squared_error: 15571.0908 - val_accuracy: 0.0000e+00\n",
      "Epoch 56/100\n",
      "58/58 [==============================] - 0s 3ms/step - loss: 15613.7715 - mean_squared_error: 15613.7715 - accuracy: 0.0000e+00 - val_loss: 15571.0908 - val_mean_squared_error: 15571.0908 - val_accuracy: 0.0000e+00\n",
      "Epoch 57/100\n",
      "58/58 [==============================] - 0s 3ms/step - loss: 15613.7725 - mean_squared_error: 15613.7725 - accuracy: 0.0000e+00 - val_loss: 15571.0908 - val_mean_squared_error: 15571.0908 - val_accuracy: 0.0000e+00\n",
      "Epoch 58/100\n",
      "58/58 [==============================] - 0s 3ms/step - loss: 15613.7744 - mean_squared_error: 15613.7744 - accuracy: 0.0000e+00 - val_loss: 15571.0908 - val_mean_squared_error: 15571.0908 - val_accuracy: 0.0000e+00\n",
      "Epoch 59/100\n",
      "58/58 [==============================] - 0s 3ms/step - loss: 15613.7705 - mean_squared_error: 15613.7705 - accuracy: 0.0000e+00 - val_loss: 15571.0908 - val_mean_squared_error: 15571.0908 - val_accuracy: 0.0000e+00\n",
      "Epoch 60/100\n",
      "58/58 [==============================] - 0s 3ms/step - loss: 15613.7744 - mean_squared_error: 15613.7744 - accuracy: 0.0000e+00 - val_loss: 15571.0908 - val_mean_squared_error: 15571.0908 - val_accuracy: 0.0000e+00\n",
      "Epoch 61/100\n",
      "58/58 [==============================] - 0s 4ms/step - loss: 15613.7695 - mean_squared_error: 15613.7695 - accuracy: 0.0000e+00 - val_loss: 15571.0908 - val_mean_squared_error: 15571.0908 - val_accuracy: 0.0000e+00\n",
      "Epoch 62/100\n",
      "58/58 [==============================] - 0s 4ms/step - loss: 15613.7764 - mean_squared_error: 15613.7764 - accuracy: 0.0000e+00 - val_loss: 15571.0908 - val_mean_squared_error: 15571.0908 - val_accuracy: 0.0000e+00\n",
      "Epoch 63/100\n",
      "58/58 [==============================] - 0s 3ms/step - loss: 15613.7764 - mean_squared_error: 15613.7764 - accuracy: 0.0000e+00 - val_loss: 15571.0908 - val_mean_squared_error: 15571.0908 - val_accuracy: 0.0000e+00\n",
      "Epoch 64/100\n",
      "58/58 [==============================] - 0s 4ms/step - loss: 15613.7725 - mean_squared_error: 15613.7725 - accuracy: 0.0000e+00 - val_loss: 15571.0908 - val_mean_squared_error: 15571.0908 - val_accuracy: 0.0000e+00\n",
      "Epoch 65/100\n",
      "58/58 [==============================] - 0s 4ms/step - loss: 15613.7725 - mean_squared_error: 15613.7725 - accuracy: 0.0000e+00 - val_loss: 15571.0908 - val_mean_squared_error: 15571.0908 - val_accuracy: 0.0000e+00\n",
      "Epoch 66/100\n",
      "58/58 [==============================] - 0s 3ms/step - loss: 15613.7754 - mean_squared_error: 15613.7754 - accuracy: 0.0000e+00 - val_loss: 15571.0908 - val_mean_squared_error: 15571.0908 - val_accuracy: 0.0000e+00\n",
      "Epoch 67/100\n",
      "58/58 [==============================] - 0s 4ms/step - loss: 15613.7715 - mean_squared_error: 15613.7715 - accuracy: 0.0000e+00 - val_loss: 15571.0908 - val_mean_squared_error: 15571.0908 - val_accuracy: 0.0000e+00\n",
      "Epoch 68/100\n",
      "58/58 [==============================] - 0s 4ms/step - loss: 15613.7725 - mean_squared_error: 15613.7725 - accuracy: 0.0000e+00 - val_loss: 15571.0908 - val_mean_squared_error: 15571.0908 - val_accuracy: 0.0000e+00\n",
      "Epoch 69/100\n",
      "58/58 [==============================] - 0s 4ms/step - loss: 15613.7705 - mean_squared_error: 15613.7705 - accuracy: 0.0000e+00 - val_loss: 15571.0908 - val_mean_squared_error: 15571.0908 - val_accuracy: 0.0000e+00\n",
      "Epoch 70/100\n",
      "58/58 [==============================] - 0s 4ms/step - loss: 15613.7725 - mean_squared_error: 15613.7725 - accuracy: 0.0000e+00 - val_loss: 15571.0908 - val_mean_squared_error: 15571.0908 - val_accuracy: 0.0000e+00\n",
      "Epoch 71/100\n",
      "58/58 [==============================] - 0s 3ms/step - loss: 15613.7715 - mean_squared_error: 15613.7715 - accuracy: 0.0000e+00 - val_loss: 15571.0908 - val_mean_squared_error: 15571.0908 - val_accuracy: 0.0000e+00\n",
      "Epoch 72/100\n",
      "58/58 [==============================] - 0s 4ms/step - loss: 15613.7725 - mean_squared_error: 15613.7725 - accuracy: 0.0000e+00 - val_loss: 15571.0908 - val_mean_squared_error: 15571.0908 - val_accuracy: 0.0000e+00\n",
      "Epoch 73/100\n",
      "58/58 [==============================] - 0s 4ms/step - loss: 15613.7695 - mean_squared_error: 15613.7695 - accuracy: 0.0000e+00 - val_loss: 15571.0908 - val_mean_squared_error: 15571.0908 - val_accuracy: 0.0000e+00\n",
      "Epoch 74/100\n",
      "58/58 [==============================] - 0s 4ms/step - loss: 15613.7705 - mean_squared_error: 15613.7705 - accuracy: 0.0000e+00 - val_loss: 15571.0908 - val_mean_squared_error: 15571.0908 - val_accuracy: 0.0000e+00\n",
      "Epoch 75/100\n",
      "58/58 [==============================] - 0s 4ms/step - loss: 15613.7725 - mean_squared_error: 15613.7725 - accuracy: 0.0000e+00 - val_loss: 15571.0908 - val_mean_squared_error: 15571.0908 - val_accuracy: 0.0000e+00\n",
      "Epoch 76/100\n",
      "58/58 [==============================] - 0s 3ms/step - loss: 15613.7725 - mean_squared_error: 15613.7725 - accuracy: 0.0000e+00 - val_loss: 15571.0908 - val_mean_squared_error: 15571.0908 - val_accuracy: 0.0000e+00\n",
      "Epoch 77/100\n",
      "58/58 [==============================] - 0s 3ms/step - loss: 15613.7715 - mean_squared_error: 15613.7715 - accuracy: 0.0000e+00 - val_loss: 15571.0908 - val_mean_squared_error: 15571.0908 - val_accuracy: 0.0000e+00\n",
      "Epoch 78/100\n",
      "58/58 [==============================] - 0s 3ms/step - loss: 15613.7754 - mean_squared_error: 15613.7754 - accuracy: 0.0000e+00 - val_loss: 15571.0908 - val_mean_squared_error: 15571.0908 - val_accuracy: 0.0000e+00\n",
      "Epoch 79/100\n",
      "58/58 [==============================] - 0s 3ms/step - loss: 15613.7705 - mean_squared_error: 15613.7705 - accuracy: 0.0000e+00 - val_loss: 15571.0908 - val_mean_squared_error: 15571.0908 - val_accuracy: 0.0000e+00\n",
      "Epoch 80/100\n",
      "58/58 [==============================] - 0s 3ms/step - loss: 15613.7744 - mean_squared_error: 15613.7744 - accuracy: 0.0000e+00 - val_loss: 15571.0908 - val_mean_squared_error: 15571.0908 - val_accuracy: 0.0000e+00\n",
      "Epoch 81/100\n",
      "58/58 [==============================] - 0s 3ms/step - loss: 15613.7725 - mean_squared_error: 15613.7725 - accuracy: 0.0000e+00 - val_loss: 15571.0908 - val_mean_squared_error: 15571.0908 - val_accuracy: 0.0000e+00\n",
      "Epoch 82/100\n",
      "58/58 [==============================] - 0s 3ms/step - loss: 15613.7744 - mean_squared_error: 15613.7744 - accuracy: 0.0000e+00 - val_loss: 15571.0908 - val_mean_squared_error: 15571.0908 - val_accuracy: 0.0000e+00\n",
      "Epoch 83/100\n",
      "58/58 [==============================] - 0s 3ms/step - loss: 15613.7725 - mean_squared_error: 15613.7725 - accuracy: 0.0000e+00 - val_loss: 15571.0908 - val_mean_squared_error: 15571.0908 - val_accuracy: 0.0000e+00\n",
      "Epoch 84/100\n",
      "58/58 [==============================] - 0s 3ms/step - loss: 15613.7715 - mean_squared_error: 15613.7715 - accuracy: 0.0000e+00 - val_loss: 15571.0908 - val_mean_squared_error: 15571.0908 - val_accuracy: 0.0000e+00\n",
      "Epoch 85/100\n",
      "58/58 [==============================] - 0s 3ms/step - loss: 15613.7695 - mean_squared_error: 15613.7695 - accuracy: 0.0000e+00 - val_loss: 15571.0908 - val_mean_squared_error: 15571.0908 - val_accuracy: 0.0000e+00\n",
      "Epoch 86/100\n",
      "58/58 [==============================] - 0s 3ms/step - loss: 15613.7715 - mean_squared_error: 15613.7715 - accuracy: 0.0000e+00 - val_loss: 15571.0908 - val_mean_squared_error: 15571.0908 - val_accuracy: 0.0000e+00\n",
      "Epoch 87/100\n",
      "58/58 [==============================] - 0s 3ms/step - loss: 15613.7725 - mean_squared_error: 15613.7725 - accuracy: 0.0000e+00 - val_loss: 15571.0908 - val_mean_squared_error: 15571.0908 - val_accuracy: 0.0000e+00\n",
      "Epoch 88/100\n",
      "58/58 [==============================] - 0s 3ms/step - loss: 15613.7715 - mean_squared_error: 15613.7715 - accuracy: 0.0000e+00 - val_loss: 15571.0908 - val_mean_squared_error: 15571.0908 - val_accuracy: 0.0000e+00\n",
      "Epoch 89/100\n",
      "58/58 [==============================] - 0s 3ms/step - loss: 15613.7754 - mean_squared_error: 15613.7754 - accuracy: 0.0000e+00 - val_loss: 15571.0908 - val_mean_squared_error: 15571.0908 - val_accuracy: 0.0000e+00\n",
      "Epoch 90/100\n",
      "58/58 [==============================] - 0s 3ms/step - loss: 15613.7744 - mean_squared_error: 15613.7744 - accuracy: 0.0000e+00 - val_loss: 15571.0908 - val_mean_squared_error: 15571.0908 - val_accuracy: 0.0000e+00\n",
      "Epoch 91/100\n",
      "58/58 [==============================] - 0s 3ms/step - loss: 15613.7695 - mean_squared_error: 15613.7695 - accuracy: 0.0000e+00 - val_loss: 15571.0908 - val_mean_squared_error: 15571.0908 - val_accuracy: 0.0000e+00\n",
      "Epoch 92/100\n",
      "58/58 [==============================] - 0s 3ms/step - loss: 15613.7725 - mean_squared_error: 15613.7725 - accuracy: 0.0000e+00 - val_loss: 15571.0908 - val_mean_squared_error: 15571.0908 - val_accuracy: 0.0000e+00\n",
      "Epoch 93/100\n",
      "58/58 [==============================] - 0s 3ms/step - loss: 15613.7725 - mean_squared_error: 15613.7725 - accuracy: 0.0000e+00 - val_loss: 15571.0908 - val_mean_squared_error: 15571.0908 - val_accuracy: 0.0000e+00\n",
      "Epoch 94/100\n",
      "58/58 [==============================] - 0s 3ms/step - loss: 15613.7754 - mean_squared_error: 15613.7754 - accuracy: 0.0000e+00 - val_loss: 15571.0908 - val_mean_squared_error: 15571.0908 - val_accuracy: 0.0000e+00\n",
      "Epoch 95/100\n",
      "58/58 [==============================] - 0s 3ms/step - loss: 15613.7715 - mean_squared_error: 15613.7715 - accuracy: 0.0000e+00 - val_loss: 15571.0908 - val_mean_squared_error: 15571.0908 - val_accuracy: 0.0000e+00\n",
      "Epoch 96/100\n",
      "58/58 [==============================] - 0s 4ms/step - loss: 15613.7705 - mean_squared_error: 15613.7705 - accuracy: 0.0000e+00 - val_loss: 15571.0908 - val_mean_squared_error: 15571.0908 - val_accuracy: 0.0000e+00\n",
      "Epoch 97/100\n",
      "58/58 [==============================] - 0s 3ms/step - loss: 15613.7725 - mean_squared_error: 15613.7725 - accuracy: 0.0000e+00 - val_loss: 15571.0908 - val_mean_squared_error: 15571.0908 - val_accuracy: 0.0000e+00\n",
      "Epoch 98/100\n",
      "58/58 [==============================] - 0s 3ms/step - loss: 15613.7754 - mean_squared_error: 15613.7754 - accuracy: 0.0000e+00 - val_loss: 15571.0908 - val_mean_squared_error: 15571.0908 - val_accuracy: 0.0000e+00\n",
      "Epoch 99/100\n",
      "58/58 [==============================] - 0s 3ms/step - loss: 15613.7744 - mean_squared_error: 15613.7744 - accuracy: 0.0000e+00 - val_loss: 15571.0908 - val_mean_squared_error: 15571.0908 - val_accuracy: 0.0000e+00\n",
      "Epoch 100/100\n",
      "58/58 [==============================] - 0s 3ms/step - loss: 15613.7744 - mean_squared_error: 15613.7744 - accuracy: 0.0000e+00 - val_loss: 15571.0908 - val_mean_squared_error: 15571.0908 - val_accuracy: 0.0000e+00\n"
     ]
    },
    {
     "data": {
      "text/plain": [
       "<keras.callbacks.History at 0x20aedcf50a0>"
      ]
     },
     "execution_count": 159,
     "metadata": {},
     "output_type": "execute_result"
    }
   ],
   "source": [
    "model.fit(X_train,Y_train,validation_data=(x_test,y_test),epochs=100)"
   ]
  },
  {
   "cell_type": "code",
   "execution_count": null,
   "id": "031d76ad",
   "metadata": {},
   "outputs": [],
   "source": [
    "model.predict([])"
   ]
  },
  {
   "cell_type": "code",
   "execution_count": null,
   "id": "44b15f75",
   "metadata": {},
   "outputs": [],
   "source": []
  },
  {
   "cell_type": "code",
   "execution_count": null,
   "id": "9717da05",
   "metadata": {},
   "outputs": [],
   "source": []
  }
 ],
 "metadata": {
  "kernelspec": {
   "display_name": "Python 3 (ipykernel)",
   "language": "python",
   "name": "python3"
  },
  "language_info": {
   "codemirror_mode": {
    "name": "ipython",
    "version": 3
   },
   "file_extension": ".py",
   "mimetype": "text/x-python",
   "name": "python",
   "nbconvert_exporter": "python",
   "pygments_lexer": "ipython3",
   "version": "3.9.19"
  }
 },
 "nbformat": 4,
 "nbformat_minor": 5
}
